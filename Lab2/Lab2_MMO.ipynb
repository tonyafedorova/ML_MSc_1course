{
 "cells": [
  {
   "cell_type": "code",
   "execution_count": 1,
   "metadata": {
    "colab": {
     "base_uri": "https://localhost:8080/",
     "height": 284
    },
    "colab_type": "code",
    "id": "KMBSAbh7uzQ3",
    "outputId": "7db3cd7d-f4c9-44f2-8169-45b3aa99ff71"
   },
   "outputs": [
    {
     "name": "stdout",
     "output_type": "stream",
     "text": [
      "Collecting pandasql\n",
      "  Downloading pandasql-0.7.3.tar.gz (26 kB)\n",
      "Requirement already satisfied: numpy in ./opt/anaconda3/lib/python3.7/site-packages (from pandasql) (1.17.2)\n",
      "Requirement already satisfied: pandas in ./opt/anaconda3/lib/python3.7/site-packages (from pandasql) (0.25.1)\n",
      "Requirement already satisfied: sqlalchemy in ./opt/anaconda3/lib/python3.7/site-packages (from pandasql) (1.3.9)\n",
      "Requirement already satisfied: python-dateutil>=2.6.1 in ./opt/anaconda3/lib/python3.7/site-packages (from pandas->pandasql) (2.8.0)\n",
      "Requirement already satisfied: pytz>=2017.2 in ./opt/anaconda3/lib/python3.7/site-packages (from pandas->pandasql) (2019.3)\n",
      "Requirement already satisfied: six>=1.5 in ./opt/anaconda3/lib/python3.7/site-packages (from python-dateutil>=2.6.1->pandas->pandasql) (1.12.0)\n",
      "Building wheels for collected packages: pandasql\n",
      "  Building wheel for pandasql (setup.py) ... \u001b[?25ldone\n",
      "\u001b[?25h  Created wheel for pandasql: filename=pandasql-0.7.3-py3-none-any.whl size=26819 sha256=92e5317050ecd1ac96a7ddc411710353a46947d2c0e3a9138c84905f4d0a6696\n",
      "  Stored in directory: /Users/a.fedorova/Library/Caches/pip/wheels/5c/4b/ec/41f4e116c8053c3654e2c2a47c62b4fca34cc67ef7b55deb7f\n",
      "Successfully built pandasql\n",
      "Installing collected packages: pandasql\n",
      "Successfully installed pandasql-0.7.3\n"
     ]
    }
   ],
   "source": [
    "! pip3 install pandasql"
   ]
  },
  {
   "cell_type": "markdown",
   "metadata": {
    "colab_type": "text",
    "id": "aELwPbH3YkDj"
   },
   "source": [
    "# **Часть 1**"
   ]
  },
  {
   "cell_type": "markdown",
   "metadata": {
    "colab_type": "text",
    "id": "8bx_y-VcoP1h"
   },
   "source": [
    "**In this task you should use Pandas to answer a few questions about the Adult dataset. (You don't have to download the data – it's already in the repository). **\n",
    "\n",
    "**Choose the answers in the web-form. **"
   ]
  },
  {
   "cell_type": "markdown",
   "metadata": {
    "colab_type": "text",
    "id": "fHTq8OY5of8D"
   },
   "source": [
    "Unique values of all features (for more information, please see the links above):\n",
    "\n",
    "* age: continuous.\n",
    "\n",
    "* workclass: Private, Self-emp-not-inc, Self-emp-inc, Federal-gov, Local-gov, State-gov, Without-pay, Never-worked.\n",
    "\n",
    "* fnlwgt: continuous.\n",
    "\n",
    "* education: Bachelors, Some-college, 11th, HS-grad, Prof-school, Assoc-acdm, Assoc-voc, 9th, 7th-8th, 12th, Masters, 1st-4th, 10th, Doctorate, 5th-6th, Preschool.\n",
    "\n",
    "*  education-num: continuous.\n",
    "\n",
    "* marital-status: Married-civ-spouse, Divorced, Never-married, Separated, Widowed, Married-spouse-absent, Married-AF-spouse.\n",
    "\n",
    "* occupation: Tech-support, Craft-repair, Other-service, Sales, Exec-managerial, Prof-specialty, Handlers-cleaners, Machine-op-inspct, Adm-clerical, Farming-fishing, Transport-moving, Priv-house-serv, Protective-serv, Armed-Forces.\n",
    "\n",
    "* relationship: Wife, Own-child, Husband, Not-in-family, Other-relative, Unmarried.\n",
    "\n",
    "* race: White, Asian-Pac-Islander, Amer-Indian-Eskimo, Other, Black.\n",
    "\n",
    "* sex: Female, Male.\n",
    "\n",
    "* capital-gain: continuous.\n",
    "\n",
    "* capital-loss: continuous.\n",
    "\n",
    "* hours-per-week: continuous.\n",
    "\n",
    "* native-country: United-States, Cambodia, England, Puerto-Rico, Canada, Germany, Outlying-US(Guam-USVI-etc), India, Japan, Greece, South, China, Cuba, Iran, Honduras, Philippines, Italy, Poland, Jamaica, Vietnam, Mexico, Portugal, Ireland, France, Dominican-Republic, Laos, Ecuador, Taiwan, Haiti, Columbia, Hungary, Guatemala, Nicaragua, Scotland, Thailand, Yugoslavia, El-Salvador, Trinadad&Tobago, Peru, Hong, Holand-Netherlands.\n",
    "\n",
    "* salary: >50K,<=50K"
   ]
  },
  {
   "cell_type": "code",
   "execution_count": 39,
   "metadata": {
    "colab": {},
    "colab_type": "code",
    "id": "7IuGAoJPo1CW"
   },
   "outputs": [],
   "source": [
    "import numpy as np\n",
    "import pandas as pd\n",
    "pd.set_option('display.max.columns', 100)\n",
    "# to draw pictures in jupyter notebook\n",
    "%matplotlib inline \n",
    "import matplotlib.pyplot as plt\n",
    "import seaborn as sns\n",
    "# we don't like warnings\n",
    "# you can comment the following 2 lines if you'd like to\n",
    "import warnings\n",
    "warnings.filterwarnings('ignore')\n",
    "import time"
   ]
  },
  {
   "cell_type": "code",
   "execution_count": 3,
   "metadata": {
    "colab": {},
    "colab_type": "code",
    "id": "TS2__opWrKHi"
   },
   "outputs": [],
   "source": [
    "data = pd.read_csv('/Users/a.fedorova/Desktop/adult.csv')"
   ]
  },
  {
   "cell_type": "code",
   "execution_count": 4,
   "metadata": {
    "colab": {
     "base_uri": "https://localhost:8080/",
     "height": 289
    },
    "colab_type": "code",
    "id": "odPHP63dsAVh",
    "outputId": "f1a54639-974f-45b2-e416-097a2340b6a0"
   },
   "outputs": [
    {
     "data": {
      "text/html": [
       "<div>\n",
       "<style scoped>\n",
       "    .dataframe tbody tr th:only-of-type {\n",
       "        vertical-align: middle;\n",
       "    }\n",
       "\n",
       "    .dataframe tbody tr th {\n",
       "        vertical-align: top;\n",
       "    }\n",
       "\n",
       "    .dataframe thead th {\n",
       "        text-align: right;\n",
       "    }\n",
       "</style>\n",
       "<table border=\"1\" class=\"dataframe\">\n",
       "  <thead>\n",
       "    <tr style=\"text-align: right;\">\n",
       "      <th></th>\n",
       "      <th>age</th>\n",
       "      <th>workclass</th>\n",
       "      <th>fnlwgt</th>\n",
       "      <th>education</th>\n",
       "      <th>educational-num</th>\n",
       "      <th>marital-status</th>\n",
       "      <th>occupation</th>\n",
       "      <th>relationship</th>\n",
       "      <th>race</th>\n",
       "      <th>gender</th>\n",
       "      <th>capital-gain</th>\n",
       "      <th>capital-loss</th>\n",
       "      <th>hours-per-week</th>\n",
       "      <th>native-country</th>\n",
       "      <th>income</th>\n",
       "    </tr>\n",
       "  </thead>\n",
       "  <tbody>\n",
       "    <tr>\n",
       "      <td>0</td>\n",
       "      <td>25</td>\n",
       "      <td>Private</td>\n",
       "      <td>226802</td>\n",
       "      <td>11th</td>\n",
       "      <td>7</td>\n",
       "      <td>Never-married</td>\n",
       "      <td>Machine-op-inspct</td>\n",
       "      <td>Own-child</td>\n",
       "      <td>Black</td>\n",
       "      <td>Male</td>\n",
       "      <td>0</td>\n",
       "      <td>0</td>\n",
       "      <td>40</td>\n",
       "      <td>United-States</td>\n",
       "      <td>&lt;=50K</td>\n",
       "    </tr>\n",
       "    <tr>\n",
       "      <td>1</td>\n",
       "      <td>38</td>\n",
       "      <td>Private</td>\n",
       "      <td>89814</td>\n",
       "      <td>HS-grad</td>\n",
       "      <td>9</td>\n",
       "      <td>Married-civ-spouse</td>\n",
       "      <td>Farming-fishing</td>\n",
       "      <td>Husband</td>\n",
       "      <td>White</td>\n",
       "      <td>Male</td>\n",
       "      <td>0</td>\n",
       "      <td>0</td>\n",
       "      <td>50</td>\n",
       "      <td>United-States</td>\n",
       "      <td>&lt;=50K</td>\n",
       "    </tr>\n",
       "    <tr>\n",
       "      <td>2</td>\n",
       "      <td>28</td>\n",
       "      <td>Local-gov</td>\n",
       "      <td>336951</td>\n",
       "      <td>Assoc-acdm</td>\n",
       "      <td>12</td>\n",
       "      <td>Married-civ-spouse</td>\n",
       "      <td>Protective-serv</td>\n",
       "      <td>Husband</td>\n",
       "      <td>White</td>\n",
       "      <td>Male</td>\n",
       "      <td>0</td>\n",
       "      <td>0</td>\n",
       "      <td>40</td>\n",
       "      <td>United-States</td>\n",
       "      <td>&gt;50K</td>\n",
       "    </tr>\n",
       "    <tr>\n",
       "      <td>3</td>\n",
       "      <td>44</td>\n",
       "      <td>Private</td>\n",
       "      <td>160323</td>\n",
       "      <td>Some-college</td>\n",
       "      <td>10</td>\n",
       "      <td>Married-civ-spouse</td>\n",
       "      <td>Machine-op-inspct</td>\n",
       "      <td>Husband</td>\n",
       "      <td>Black</td>\n",
       "      <td>Male</td>\n",
       "      <td>7688</td>\n",
       "      <td>0</td>\n",
       "      <td>40</td>\n",
       "      <td>United-States</td>\n",
       "      <td>&gt;50K</td>\n",
       "    </tr>\n",
       "    <tr>\n",
       "      <td>4</td>\n",
       "      <td>18</td>\n",
       "      <td>?</td>\n",
       "      <td>103497</td>\n",
       "      <td>Some-college</td>\n",
       "      <td>10</td>\n",
       "      <td>Never-married</td>\n",
       "      <td>?</td>\n",
       "      <td>Own-child</td>\n",
       "      <td>White</td>\n",
       "      <td>Female</td>\n",
       "      <td>0</td>\n",
       "      <td>0</td>\n",
       "      <td>30</td>\n",
       "      <td>United-States</td>\n",
       "      <td>&lt;=50K</td>\n",
       "    </tr>\n",
       "  </tbody>\n",
       "</table>\n",
       "</div>"
      ],
      "text/plain": [
       "   age  workclass  fnlwgt     education  educational-num      marital-status  \\\n",
       "0   25    Private  226802          11th                7       Never-married   \n",
       "1   38    Private   89814       HS-grad                9  Married-civ-spouse   \n",
       "2   28  Local-gov  336951    Assoc-acdm               12  Married-civ-spouse   \n",
       "3   44    Private  160323  Some-college               10  Married-civ-spouse   \n",
       "4   18          ?  103497  Some-college               10       Never-married   \n",
       "\n",
       "          occupation relationship   race  gender  capital-gain  capital-loss  \\\n",
       "0  Machine-op-inspct    Own-child  Black    Male             0             0   \n",
       "1    Farming-fishing      Husband  White    Male             0             0   \n",
       "2    Protective-serv      Husband  White    Male             0             0   \n",
       "3  Machine-op-inspct      Husband  Black    Male          7688             0   \n",
       "4                  ?    Own-child  White  Female             0             0   \n",
       "\n",
       "   hours-per-week native-country income  \n",
       "0              40  United-States  <=50K  \n",
       "1              50  United-States  <=50K  \n",
       "2              40  United-States   >50K  \n",
       "3              40  United-States   >50K  \n",
       "4              30  United-States  <=50K  "
      ]
     },
     "execution_count": 4,
     "metadata": {},
     "output_type": "execute_result"
    }
   ],
   "source": [
    "data.head()"
   ]
  },
  {
   "cell_type": "markdown",
   "metadata": {
    "colab_type": "text",
    "id": "8VCVKQLft7la"
   },
   "source": [
    "**1. How many men and women (sex feature) are represented in this dataset?**\n"
   ]
  },
  {
   "cell_type": "code",
   "execution_count": 6,
   "metadata": {
    "colab": {
     "base_uri": "https://localhost:8080/",
     "height": 68
    },
    "colab_type": "code",
    "id": "u_er5-06ts1d",
    "outputId": "9aecd409-5cd2-43c3-91c1-cac94e115655"
   },
   "outputs": [
    {
     "data": {
      "text/plain": [
       "Male      32650\n",
       "Female    16192\n",
       "Name: gender, dtype: int64"
      ]
     },
     "execution_count": 6,
     "metadata": {},
     "output_type": "execute_result"
    }
   ],
   "source": [
    "data['gender'].value_counts()"
   ]
  },
  {
   "cell_type": "markdown",
   "metadata": {
    "colab_type": "text",
    "id": "CcvjQdfcu2Xg"
   },
   "source": [
    "***2. What is the average age (age feature) of women?***\n",
    "\n",
    "\n"
   ]
  },
  {
   "cell_type": "code",
   "execution_count": 7,
   "metadata": {
    "colab": {
     "base_uri": "https://localhost:8080/",
     "height": 51
    },
    "colab_type": "code",
    "id": "Y31dzAzOu5Lf",
    "outputId": "476867c2-36a3-4b81-c42d-a771820f9ccd"
   },
   "outputs": [
    {
     "data": {
      "text/plain": [
       "age    36.927989\n",
       "dtype: float64"
      ]
     },
     "execution_count": 7,
     "metadata": {},
     "output_type": "execute_result"
    }
   ],
   "source": [
    "data.loc[data['gender'] == 'Female', ['age']].mean()"
   ]
  },
  {
   "cell_type": "markdown",
   "metadata": {
    "colab_type": "text",
    "id": "76_LCrx4wmpz"
   },
   "source": [
    "***3. What is the percentage of German citizens (native-country feature)?***\n"
   ]
  },
  {
   "cell_type": "code",
   "execution_count": 8,
   "metadata": {
    "colab": {
     "base_uri": "https://localhost:8080/",
     "height": 34
    },
    "colab_type": "code",
    "id": "Kgj07VAUwl08",
    "outputId": "ba986654-6cc2-4142-de61-996c8397eabe"
   },
   "outputs": [
    {
     "data": {
      "text/plain": [
       "206"
      ]
     },
     "execution_count": 8,
     "metadata": {},
     "output_type": "execute_result"
    }
   ],
   "source": [
    "#Всего граждан из Германии\n",
    "(data['native-country'] == 'Germany').sum()"
   ]
  },
  {
   "cell_type": "code",
   "execution_count": 9,
   "metadata": {
    "colab": {
     "base_uri": "https://localhost:8080/",
     "height": 34
    },
    "colab_type": "code",
    "id": "_4ygEtxwyCQR",
    "outputId": "2bf0156a-540d-405f-b681-aa977a3d03e4"
   },
   "outputs": [
    {
     "data": {
      "text/plain": [
       "0.00421768150362393"
      ]
     },
     "execution_count": 9,
     "metadata": {},
     "output_type": "execute_result"
    }
   ],
   "source": [
    "(data['native-country'] == 'Germany').sum()/data.shape[0]"
   ]
  },
  {
   "cell_type": "markdown",
   "metadata": {
    "colab_type": "text",
    "id": "lV5LSo6FydMf"
   },
   "source": [
    "***4-5. What are the mean and standard deviation of age for those who earn more than 50K per year (salary feature) and those who earn less than 50K per year?***"
   ]
  },
  {
   "cell_type": "code",
   "execution_count": 11,
   "metadata": {
    "colab": {
     "base_uri": "https://localhost:8080/",
     "height": 51
    },
    "colab_type": "code",
    "id": "3Fzw3AKzycfW",
    "outputId": "8bed6a8b-a3db-4f8f-83b9-4a7e8d8010f9"
   },
   "outputs": [
    {
     "name": "stdout",
     "output_type": "stream",
     "text": [
      "Средний возраст бедных = 37 +- 14.1\n",
      "Средний возраст богатых = 44 +- 10.6\n"
     ]
    }
   ],
   "source": [
    "poor_mean = data.loc[data['income'] == '<=50K', 'age'].mean()\n",
    "poor_std = data.loc[data['income'] == '<=50K', 'age'].std()\n",
    "rich_mean = data.loc[data['income'] == '>50K', 'age'].mean()\n",
    "rich_std = data.loc[data['income'] == '>50K', 'age'].std()\n",
    "print('Средний возраст бедных = {0} +- {1}'.format(round(poor_mean), round(poor_std, 1)))\n",
    "print('Средний возраст богатых = {0} +- {1}'.format(round(rich_mean), round(rich_std, 1)))"
   ]
  },
  {
   "cell_type": "markdown",
   "metadata": {
    "colab_type": "text",
    "id": "oxBJGXua1bwk"
   },
   "source": [
    "***6. Is it true that people who earn more than 50K have at least high school education? (education – Bachelors, Prof-school, Assoc-acdm, Assoc-voc, Masters or Doctorate feature)***"
   ]
  },
  {
   "cell_type": "code",
   "execution_count": 13,
   "metadata": {
    "colab": {
     "base_uri": "https://localhost:8080/",
     "height": 289
    },
    "colab_type": "code",
    "id": "Kovu8QfV1grr",
    "outputId": "e4c6ffde-a9ea-42b0-d9d8-56bdba96ae50"
   },
   "outputs": [
    {
     "data": {
      "text/plain": [
       "Bachelors       3313\n",
       "HS-grad         2503\n",
       "Some-college    2063\n",
       "Masters         1459\n",
       "Prof-school      617\n",
       "Assoc-voc        522\n",
       "Doctorate        431\n",
       "Assoc-acdm       413\n",
       "11th              92\n",
       "10th              87\n",
       "7th-8th           62\n",
       "12th              48\n",
       "9th               41\n",
       "5th-6th           27\n",
       "1st-4th            8\n",
       "Preschool          1\n",
       "Name: education, dtype: int64"
      ]
     },
     "execution_count": 13,
     "metadata": {},
     "output_type": "execute_result"
    }
   ],
   "source": [
    "data.loc[data['income'] == '>50K', 'education'].value_counts()"
   ]
  },
  {
   "cell_type": "markdown",
   "metadata": {
    "colab_type": "text",
    "id": "vV-fmLUL1IRE"
   },
   "source": [
    "***7. Display age statistics for each race (race feature) and each gender (sex feature). Use groupby() and describe(). Find the maximum age of men of Amer-Indian-Eskimo race.***"
   ]
  },
  {
   "cell_type": "code",
   "execution_count": 14,
   "metadata": {
    "colab": {
     "base_uri": "https://localhost:8080/",
     "height": 1717
    },
    "colab_type": "code",
    "id": "cendmOU-1pjY",
    "outputId": "d47005a6-7da7-4720-e83b-6add6971405a"
   },
   "outputs": [
    {
     "name": "stdout",
     "output_type": "stream",
     "text": [
      "Race: Amer-Indian-Eskimo, sex: Female\n",
      "count    185.000000\n",
      "mean      36.237838\n",
      "std       12.840056\n",
      "min       17.000000\n",
      "25%       26.000000\n",
      "50%       35.000000\n",
      "75%       46.000000\n",
      "max       80.000000\n",
      "Name: age, dtype: float64\n",
      "Race: Amer-Indian-Eskimo, sex: Male\n",
      "count    285.000000\n",
      "mean      36.989474\n",
      "std       11.703943\n",
      "min       17.000000\n",
      "25%       29.000000\n",
      "50%       35.000000\n",
      "75%       44.000000\n",
      "max       82.000000\n",
      "Name: age, dtype: float64\n",
      "Race: Asian-Pac-Islander, sex: Female\n",
      "count    517.000000\n",
      "mean      35.657640\n",
      "std       12.637799\n",
      "min       17.000000\n",
      "25%       25.000000\n",
      "50%       34.000000\n",
      "75%       44.000000\n",
      "max       81.000000\n",
      "Name: age, dtype: float64\n",
      "Race: Asian-Pac-Islander, sex: Male\n",
      "count    1002.000000\n",
      "mean       38.994012\n",
      "std        12.824878\n",
      "min        18.000000\n",
      "25%        29.000000\n",
      "50%        37.000000\n",
      "75%        46.000000\n",
      "max        90.000000\n",
      "Name: age, dtype: float64\n",
      "Race: Black, sex: Female\n",
      "count    2308.000000\n",
      "mean       37.905979\n",
      "std        12.736001\n",
      "min        17.000000\n",
      "25%        28.000000\n",
      "50%        36.000000\n",
      "75%        46.000000\n",
      "max        90.000000\n",
      "Name: age, dtype: float64\n",
      "Race: Black, sex: Male\n",
      "count    2377.000000\n",
      "mean       37.922592\n",
      "std        13.036981\n",
      "min        17.000000\n",
      "25%        28.000000\n",
      "50%        36.000000\n",
      "75%        46.000000\n",
      "max        90.000000\n",
      "Name: age, dtype: float64\n",
      "Race: Other, sex: Female\n",
      "count    155.000000\n",
      "mean      31.212903\n",
      "std       11.233061\n",
      "min       17.000000\n",
      "25%       23.000000\n",
      "50%       29.000000\n",
      "75%       37.000000\n",
      "max       74.000000\n",
      "Name: age, dtype: float64\n",
      "Race: Other, sex: Male\n",
      "count    251.000000\n",
      "mean      35.167331\n",
      "std       11.808297\n",
      "min       17.000000\n",
      "25%       26.000000\n",
      "50%       32.000000\n",
      "75%       42.500000\n",
      "max       77.000000\n",
      "Name: age, dtype: float64\n",
      "Race: White, sex: Female\n",
      "count    13027.000000\n",
      "mean        36.882935\n",
      "std         14.454178\n",
      "min         17.000000\n",
      "25%         25.000000\n",
      "50%         35.000000\n",
      "75%         47.000000\n",
      "max         90.000000\n",
      "Name: age, dtype: float64\n",
      "Race: White, sex: Male\n",
      "count    28735.000000\n",
      "mean        39.704507\n",
      "std         13.475250\n",
      "min         17.000000\n",
      "25%         29.000000\n",
      "50%         38.000000\n",
      "75%         49.000000\n",
      "max         90.000000\n",
      "Name: age, dtype: float64\n"
     ]
    }
   ],
   "source": [
    "for (race, sex), sub_data in data.groupby(['race', 'gender']):\n",
    "    print(\"Race: {0}, sex: {1}\".format(race, sex))\n",
    "    print(sub_data['age'].describe())"
   ]
  },
  {
   "cell_type": "markdown",
   "metadata": {
    "colab_type": "text",
    "id": "7niir0Wt5gZt"
   },
   "source": [
    "**8. Among whom is the proportion of those who earn a lot (>50K) greater: married or single men (marital-status feature)? Consider as married those who have a marital-status starting with Married (Married-civ-spouse, Married-spouse-absent or Married-AF-spouse), the rest are considered bachelors.**"
   ]
  },
  {
   "cell_type": "code",
   "execution_count": 16,
   "metadata": {
    "colab": {
     "base_uri": "https://localhost:8080/",
     "height": 68
    },
    "colab_type": "code",
    "id": "3Pu92slM5p54",
    "outputId": "a3a20fec-2c47-418e-a435-60e0f2331abd"
   },
   "outputs": [
    {
     "data": {
      "text/plain": [
       "<=50K    11414\n",
       ">50K      1001\n",
       "Name: income, dtype: int64"
      ]
     },
     "execution_count": 16,
     "metadata": {},
     "output_type": "execute_result"
    }
   ],
   "source": [
    "data.loc[(data['gender'] == 'Male') &\n",
    "     (data['marital-status'].isin(['Never-married', \n",
    "                                   'Separated', \n",
    "                                   'Divorced',\n",
    "                                   'Widowed'])), 'income'].value_counts()"
   ]
  },
  {
   "cell_type": "code",
   "execution_count": 17,
   "metadata": {
    "colab": {
     "base_uri": "https://localhost:8080/",
     "height": 68
    },
    "colab_type": "code",
    "id": "TcbiqJJN8qAz",
    "outputId": "79a78a8e-fc88-4664-95cc-a70858b0f2e3"
   },
   "outputs": [
    {
     "data": {
      "text/plain": [
       "<=50K    11318\n",
       ">50K      8917\n",
       "Name: income, dtype: int64"
      ]
     },
     "execution_count": 17,
     "metadata": {},
     "output_type": "execute_result"
    }
   ],
   "source": [
    "data.loc[(data['gender'] == 'Male') &\n",
    "     (data['marital-status'].str.startswith('Married')), 'income'].value_counts()"
   ]
  },
  {
   "cell_type": "markdown",
   "metadata": {
    "colab_type": "text",
    "id": "tJI_PbPw8zHh"
   },
   "source": [
    "**9. What is the maximum number of hours a person works per week (hours-per-week feature)? How many people work such a number of hours, and what is the percentage of those who earn a lot (>50K) among them?**"
   ]
  },
  {
   "cell_type": "code",
   "execution_count": 19,
   "metadata": {
    "colab": {
     "base_uri": "https://localhost:8080/",
     "height": 119
    },
    "colab_type": "code",
    "id": "psNTE4gG860U",
    "outputId": "e77d4e3f-4cd6-4ba4-a71f-c42519e928d1"
   },
   "outputs": [
    {
     "name": "stdout",
     "output_type": "stream",
     "text": [
      "Максимальное число часов работы: 99\n",
      "Число людей, работающих 99 часов в неделю и их зарплаты:\n",
      "<=50K    96\n",
      ">50K     41\n",
      "Name: income, dtype: int64\n",
      "Процент людей, которые работают по  99 часов и получают зарплату более 50k = 29.927007299270077\n"
     ]
    }
   ],
   "source": [
    "max_time = data['hours-per-week'].max()\n",
    "print('Максимальное число часов работы: {0}'.format(max_time))\n",
    "print('Число людей, работающих {0} часов в неделю и их зарплаты:'.format(max_time))\n",
    "print(data.loc[data['hours-per-week'] == max_time, 'income'].value_counts())\n",
    "perc = ((data['hours-per-week'] == max_time) & (data['income'] == '>50K')).sum()/(data['hours-per-week'] == max_time).sum()*100\n",
    "print('Процент людей, которые работают по  {0} часов и получают зарплату более 50k = {1}'.format(max_time, perc))"
   ]
  },
  {
   "cell_type": "markdown",
   "metadata": {
    "colab_type": "text",
    "id": "psp4aCNvTs9K"
   },
   "source": [
    "**10. Count the average time of work (hours-per-week) for those who earn a little and a lot (salary) for each country (native-country). What will these be for Japan?**"
   ]
  },
  {
   "cell_type": "code",
   "execution_count": 20,
   "metadata": {
    "colab": {
     "base_uri": "https://localhost:8080/",
     "height": 2805
    },
    "colab_type": "code",
    "id": "0hXEiwDgTxqw",
    "outputId": "5557e6c1-ebe9-454f-f504-430ae47e4b85"
   },
   "outputs": [
    {
     "name": "stdout",
     "output_type": "stream",
     "text": [
      "native-country: ?, salary: <=50K\n",
      "39.55\n",
      "native-country: Cambodia, salary: <=50K\n",
      "41.16\n",
      "native-country: Canada, salary: <=50K\n",
      "37.38\n",
      "native-country: China, salary: <=50K\n",
      "36.69\n",
      "native-country: Columbia, salary: <=50K\n",
      "39.12\n",
      "native-country: Cuba, salary: <=50K\n",
      "39.2\n",
      "native-country: Dominican-Republic, salary: <=50K\n",
      "41.56\n",
      "native-country: Ecuador, salary: <=50K\n",
      "37.95\n",
      "native-country: El-Salvador, salary: <=50K\n",
      "35.82\n",
      "native-country: England, salary: <=50K\n",
      "39.38\n",
      "native-country: France, salary: <=50K\n",
      "40.09\n",
      "native-country: Germany, salary: <=50K\n",
      "38.9\n",
      "native-country: Greece, salary: <=50K\n",
      "41.87\n",
      "native-country: Guatemala, salary: <=50K\n",
      "38.79\n",
      "native-country: Haiti, salary: <=50K\n",
      "36.41\n",
      "native-country: Holand-Netherlands, salary: <=50K\n",
      "40.0\n",
      "native-country: Honduras, salary: <=50K\n",
      "34.06\n",
      "native-country: Hong, salary: <=50K\n",
      "39.0\n",
      "native-country: Hungary, salary: <=50K\n",
      "34.08\n",
      "native-country: India, salary: <=50K\n",
      "38.04\n",
      "native-country: Iran, salary: <=50K\n",
      "39.97\n",
      "native-country: Ireland, salary: <=50K\n",
      "41.27\n",
      "native-country: Italy, salary: <=50K\n",
      "38.69\n",
      "native-country: Jamaica, salary: <=50K\n",
      "38.63\n",
      "native-country: Japan, salary: <=50K\n",
      "39.73\n",
      "native-country: Laos, salary: <=50K\n",
      "39.33\n",
      "native-country: Mexico, salary: <=50K\n",
      "39.93\n",
      "native-country: Nicaragua, salary: <=50K\n",
      "36.85\n",
      "native-country: Outlying-US(Guam-USVI-etc), salary: <=50K\n",
      "41.41\n",
      "native-country: Peru, salary: <=50K\n",
      "36.21\n",
      "native-country: Philippines, salary: <=50K\n",
      "38.01\n",
      "native-country: Poland, salary: <=50K\n",
      "37.23\n",
      "native-country: Portugal, salary: <=50K\n",
      "41.25\n",
      "native-country: Puerto-Rico, salary: <=50K\n",
      "38.91\n",
      "native-country: Scotland, salary: <=50K\n",
      "40.83\n",
      "native-country: South, salary: <=50K\n",
      "41.05\n",
      "native-country: Taiwan, salary: <=50K\n",
      "35.31\n",
      "native-country: Thailand, salary: <=50K\n",
      "43.04\n",
      "native-country: Trinadad&Tobago, salary: <=50K\n",
      "38.8\n",
      "native-country: United-States, salary: <=50K\n",
      "38.82\n",
      "native-country: Vietnam, salary: <=50K\n",
      "37.85\n",
      "native-country: Yugoslavia, salary: <=50K\n",
      "38.53\n",
      "native-country: ?, salary: >50K\n",
      "45.32\n",
      "native-country: Cambodia, salary: >50K\n",
      "43.89\n",
      "native-country: Canada, salary: >50K\n",
      "46.13\n",
      "native-country: China, salary: >50K\n",
      "42.03\n",
      "native-country: Columbia, salary: >50K\n",
      "56.25\n",
      "native-country: Cuba, salary: >50K\n",
      "42.85\n",
      "native-country: Dominican-Republic, salary: >50K\n",
      "42.8\n",
      "native-country: Ecuador, salary: >50K\n",
      "47.83\n",
      "native-country: El-Salvador, salary: >50K\n",
      "43.45\n",
      "native-country: England, salary: >50K\n",
      "46.3\n",
      "native-country: France, salary: >50K\n",
      "46.5\n",
      "native-country: Germany, salary: >50K\n",
      "45.71\n",
      "native-country: Greece, salary: >50K\n",
      "55.56\n",
      "native-country: Guatemala, salary: >50K\n",
      "36.67\n",
      "native-country: Haiti, salary: >50K\n",
      "40.67\n",
      "native-country: Honduras, salary: >50K\n",
      "50.0\n",
      "native-country: Hong, salary: >50K\n",
      "43.75\n",
      "native-country: Hungary, salary: >50K\n",
      "46.33\n",
      "native-country: India, salary: >50K\n",
      "46.27\n",
      "native-country: Iran, salary: >50K\n",
      "47.95\n",
      "native-country: Ireland, salary: >50K\n",
      "45.18\n",
      "native-country: Italy, salary: >50K\n",
      "45.65\n",
      "native-country: Jamaica, salary: >50K\n",
      "42.4\n",
      "native-country: Japan, salary: >50K\n",
      "47.06\n",
      "native-country: Laos, salary: >50K\n",
      "40.0\n",
      "native-country: Mexico, salary: >50K\n",
      "45.64\n",
      "native-country: Nicaragua, salary: >50K\n",
      "38.33\n",
      "native-country: Outlying-US(Guam-USVI-etc), salary: >50K\n",
      "40.0\n",
      "native-country: Peru, salary: >50K\n",
      "40.0\n",
      "native-country: Philippines, salary: >50K\n",
      "43.59\n",
      "native-country: Poland, salary: >50K\n",
      "39.59\n",
      "native-country: Portugal, salary: >50K\n",
      "46.75\n",
      "native-country: Puerto-Rico, salary: >50K\n",
      "39.9\n",
      "native-country: Scotland, salary: >50K\n",
      "46.67\n",
      "native-country: South, salary: >50K\n",
      "51.4\n",
      "native-country: Taiwan, salary: >50K\n",
      "45.54\n",
      "native-country: Thailand, salary: >50K\n",
      "53.0\n",
      "native-country: Trinadad&Tobago, salary: >50K\n",
      "40.0\n",
      "native-country: United-States, salary: >50K\n",
      "45.47\n",
      "native-country: Vietnam, salary: >50K\n",
      "39.43\n",
      "native-country: Yugoslavia, salary: >50K\n",
      "43.38\n"
     ]
    }
   ],
   "source": [
    "for (salary, native_country), sub_data in data.groupby(['income', 'native-country']):\n",
    "  print(\"native-country: {0}, salary: {1}\".format(native_country, salary))\n",
    "  print(round(sub_data['hours-per-week'].mean(), 2))"
   ]
  },
  {
   "cell_type": "markdown",
   "metadata": {
    "colab_type": "text",
    "id": "ntnwoUfSYUgp"
   },
   "source": [
    "# **Часть 2**"
   ]
  },
  {
   "cell_type": "code",
   "execution_count": 21,
   "metadata": {
    "colab": {},
    "colab_type": "code",
    "id": "PJG9cnKTYhlU"
   },
   "outputs": [],
   "source": [
    "user_usage = pd.read_csv('/Users/a.fedorova/Desktop/user_usage.csv')\n",
    "user_device = pd.read_csv('/Users/a.fedorova/Desktop/user_device.csv')"
   ]
  },
  {
   "cell_type": "code",
   "execution_count": 22,
   "metadata": {
    "colab": {
     "base_uri": "https://localhost:8080/",
     "height": 204
    },
    "colab_type": "code",
    "id": "olmnvEd6eKLs",
    "outputId": "2d64a3cb-10a7-4b1f-d1ca-bbe9d85abd7f"
   },
   "outputs": [
    {
     "data": {
      "text/html": [
       "<div>\n",
       "<style scoped>\n",
       "    .dataframe tbody tr th:only-of-type {\n",
       "        vertical-align: middle;\n",
       "    }\n",
       "\n",
       "    .dataframe tbody tr th {\n",
       "        vertical-align: top;\n",
       "    }\n",
       "\n",
       "    .dataframe thead th {\n",
       "        text-align: right;\n",
       "    }\n",
       "</style>\n",
       "<table border=\"1\" class=\"dataframe\">\n",
       "  <thead>\n",
       "    <tr style=\"text-align: right;\">\n",
       "      <th></th>\n",
       "      <th>outgoing_mins_per_month</th>\n",
       "      <th>outgoing_sms_per_month</th>\n",
       "      <th>monthly_mb</th>\n",
       "      <th>use_id</th>\n",
       "    </tr>\n",
       "  </thead>\n",
       "  <tbody>\n",
       "    <tr>\n",
       "      <td>0</td>\n",
       "      <td>21.97</td>\n",
       "      <td>4.82</td>\n",
       "      <td>1557.33</td>\n",
       "      <td>22787</td>\n",
       "    </tr>\n",
       "    <tr>\n",
       "      <td>1</td>\n",
       "      <td>1710.08</td>\n",
       "      <td>136.88</td>\n",
       "      <td>7267.55</td>\n",
       "      <td>22788</td>\n",
       "    </tr>\n",
       "    <tr>\n",
       "      <td>2</td>\n",
       "      <td>1710.08</td>\n",
       "      <td>136.88</td>\n",
       "      <td>7267.55</td>\n",
       "      <td>22789</td>\n",
       "    </tr>\n",
       "    <tr>\n",
       "      <td>3</td>\n",
       "      <td>94.46</td>\n",
       "      <td>35.17</td>\n",
       "      <td>519.12</td>\n",
       "      <td>22790</td>\n",
       "    </tr>\n",
       "    <tr>\n",
       "      <td>4</td>\n",
       "      <td>71.59</td>\n",
       "      <td>79.26</td>\n",
       "      <td>1557.33</td>\n",
       "      <td>22792</td>\n",
       "    </tr>\n",
       "  </tbody>\n",
       "</table>\n",
       "</div>"
      ],
      "text/plain": [
       "   outgoing_mins_per_month  outgoing_sms_per_month  monthly_mb  use_id\n",
       "0                    21.97                    4.82     1557.33   22787\n",
       "1                  1710.08                  136.88     7267.55   22788\n",
       "2                  1710.08                  136.88     7267.55   22789\n",
       "3                    94.46                   35.17      519.12   22790\n",
       "4                    71.59                   79.26     1557.33   22792"
      ]
     },
     "execution_count": 22,
     "metadata": {},
     "output_type": "execute_result"
    }
   ],
   "source": [
    "user_usage.head()"
   ]
  },
  {
   "cell_type": "code",
   "execution_count": 25,
   "metadata": {
    "colab": {
     "base_uri": "https://localhost:8080/",
     "height": 204
    },
    "colab_type": "code",
    "id": "_Gu3lnuQepTs",
    "outputId": "9b59066f-de72-41a5-b250-6f838fc4630f"
   },
   "outputs": [
    {
     "data": {
      "text/html": [
       "<div>\n",
       "<style scoped>\n",
       "    .dataframe tbody tr th:only-of-type {\n",
       "        vertical-align: middle;\n",
       "    }\n",
       "\n",
       "    .dataframe tbody tr th {\n",
       "        vertical-align: top;\n",
       "    }\n",
       "\n",
       "    .dataframe thead th {\n",
       "        text-align: right;\n",
       "    }\n",
       "</style>\n",
       "<table border=\"1\" class=\"dataframe\">\n",
       "  <thead>\n",
       "    <tr style=\"text-align: right;\">\n",
       "      <th></th>\n",
       "      <th>use_id</th>\n",
       "      <th>user_id</th>\n",
       "      <th>platform</th>\n",
       "      <th>platform_version</th>\n",
       "      <th>device</th>\n",
       "      <th>use_type_id</th>\n",
       "    </tr>\n",
       "  </thead>\n",
       "  <tbody>\n",
       "    <tr>\n",
       "      <td>0</td>\n",
       "      <td>22782</td>\n",
       "      <td>26980</td>\n",
       "      <td>ios</td>\n",
       "      <td>10.2</td>\n",
       "      <td>iPhone7,2</td>\n",
       "      <td>2</td>\n",
       "    </tr>\n",
       "    <tr>\n",
       "      <td>1</td>\n",
       "      <td>22783</td>\n",
       "      <td>29628</td>\n",
       "      <td>android</td>\n",
       "      <td>6.0</td>\n",
       "      <td>Nexus 5</td>\n",
       "      <td>3</td>\n",
       "    </tr>\n",
       "    <tr>\n",
       "      <td>2</td>\n",
       "      <td>22784</td>\n",
       "      <td>28473</td>\n",
       "      <td>android</td>\n",
       "      <td>5.1</td>\n",
       "      <td>SM-G903F</td>\n",
       "      <td>1</td>\n",
       "    </tr>\n",
       "    <tr>\n",
       "      <td>3</td>\n",
       "      <td>22785</td>\n",
       "      <td>15200</td>\n",
       "      <td>ios</td>\n",
       "      <td>10.2</td>\n",
       "      <td>iPhone7,2</td>\n",
       "      <td>3</td>\n",
       "    </tr>\n",
       "    <tr>\n",
       "      <td>4</td>\n",
       "      <td>22786</td>\n",
       "      <td>28239</td>\n",
       "      <td>android</td>\n",
       "      <td>6.0</td>\n",
       "      <td>ONE E1003</td>\n",
       "      <td>1</td>\n",
       "    </tr>\n",
       "  </tbody>\n",
       "</table>\n",
       "</div>"
      ],
      "text/plain": [
       "   use_id  user_id platform  platform_version     device  use_type_id\n",
       "0   22782    26980      ios              10.2  iPhone7,2            2\n",
       "1   22783    29628  android               6.0    Nexus 5            3\n",
       "2   22784    28473  android               5.1   SM-G903F            1\n",
       "3   22785    15200      ios              10.2  iPhone7,2            3\n",
       "4   22786    28239  android               6.0  ONE E1003            1"
      ]
     },
     "execution_count": 25,
     "metadata": {},
     "output_type": "execute_result"
    }
   ],
   "source": [
    "user_device.head()"
   ]
  },
  {
   "cell_type": "markdown",
   "metadata": {
    "colab_type": "text",
    "id": "VtD6K9uhe4f5"
   },
   "source": [
    "#Pandas"
   ]
  },
  {
   "cell_type": "code",
   "execution_count": 42,
   "metadata": {
    "colab": {},
    "colab_type": "code",
    "id": "82R4bCkBe7P2"
   },
   "outputs": [
    {
     "name": "stdout",
     "output_type": "stream",
     "text": [
      "Time: 0.003823995590209961\n"
     ]
    }
   ],
   "source": [
    "start = time.time()\n",
    "full1 = pd.merge(user_usage,\n",
    "                 user_device,\n",
    "                 on='use_id',\n",
    "                 how = 'left')\n",
    "end = time.time()\n",
    "print('Time:',end - start)"
   ]
  },
  {
   "cell_type": "code",
   "execution_count": 27,
   "metadata": {
    "colab": {
     "base_uri": "https://localhost:8080/",
     "height": 204
    },
    "colab_type": "code",
    "id": "v_xDPT0lpvRK",
    "outputId": "9d2cdf42-e77e-45d3-eeda-a22bedfed32a"
   },
   "outputs": [
    {
     "data": {
      "text/html": [
       "<div>\n",
       "<style scoped>\n",
       "    .dataframe tbody tr th:only-of-type {\n",
       "        vertical-align: middle;\n",
       "    }\n",
       "\n",
       "    .dataframe tbody tr th {\n",
       "        vertical-align: top;\n",
       "    }\n",
       "\n",
       "    .dataframe thead th {\n",
       "        text-align: right;\n",
       "    }\n",
       "</style>\n",
       "<table border=\"1\" class=\"dataframe\">\n",
       "  <thead>\n",
       "    <tr style=\"text-align: right;\">\n",
       "      <th></th>\n",
       "      <th>outgoing_mins_per_month</th>\n",
       "      <th>outgoing_sms_per_month</th>\n",
       "      <th>monthly_mb</th>\n",
       "      <th>use_id</th>\n",
       "      <th>user_id</th>\n",
       "      <th>platform</th>\n",
       "      <th>platform_version</th>\n",
       "      <th>device</th>\n",
       "      <th>use_type_id</th>\n",
       "    </tr>\n",
       "  </thead>\n",
       "  <tbody>\n",
       "    <tr>\n",
       "      <td>0</td>\n",
       "      <td>21.97</td>\n",
       "      <td>4.82</td>\n",
       "      <td>1557.33</td>\n",
       "      <td>22787</td>\n",
       "      <td>12921.0</td>\n",
       "      <td>android</td>\n",
       "      <td>4.3</td>\n",
       "      <td>GT-I9505</td>\n",
       "      <td>1.0</td>\n",
       "    </tr>\n",
       "    <tr>\n",
       "      <td>1</td>\n",
       "      <td>1710.08</td>\n",
       "      <td>136.88</td>\n",
       "      <td>7267.55</td>\n",
       "      <td>22788</td>\n",
       "      <td>28714.0</td>\n",
       "      <td>android</td>\n",
       "      <td>6.0</td>\n",
       "      <td>SM-G930F</td>\n",
       "      <td>1.0</td>\n",
       "    </tr>\n",
       "    <tr>\n",
       "      <td>2</td>\n",
       "      <td>1710.08</td>\n",
       "      <td>136.88</td>\n",
       "      <td>7267.55</td>\n",
       "      <td>22789</td>\n",
       "      <td>28714.0</td>\n",
       "      <td>android</td>\n",
       "      <td>6.0</td>\n",
       "      <td>SM-G930F</td>\n",
       "      <td>1.0</td>\n",
       "    </tr>\n",
       "    <tr>\n",
       "      <td>3</td>\n",
       "      <td>94.46</td>\n",
       "      <td>35.17</td>\n",
       "      <td>519.12</td>\n",
       "      <td>22790</td>\n",
       "      <td>29592.0</td>\n",
       "      <td>android</td>\n",
       "      <td>5.1</td>\n",
       "      <td>D2303</td>\n",
       "      <td>1.0</td>\n",
       "    </tr>\n",
       "    <tr>\n",
       "      <td>4</td>\n",
       "      <td>71.59</td>\n",
       "      <td>79.26</td>\n",
       "      <td>1557.33</td>\n",
       "      <td>22792</td>\n",
       "      <td>28217.0</td>\n",
       "      <td>android</td>\n",
       "      <td>5.1</td>\n",
       "      <td>SM-G361F</td>\n",
       "      <td>1.0</td>\n",
       "    </tr>\n",
       "  </tbody>\n",
       "</table>\n",
       "</div>"
      ],
      "text/plain": [
       "   outgoing_mins_per_month  outgoing_sms_per_month  monthly_mb  use_id  \\\n",
       "0                    21.97                    4.82     1557.33   22787   \n",
       "1                  1710.08                  136.88     7267.55   22788   \n",
       "2                  1710.08                  136.88     7267.55   22789   \n",
       "3                    94.46                   35.17      519.12   22790   \n",
       "4                    71.59                   79.26     1557.33   22792   \n",
       "\n",
       "   user_id platform  platform_version    device  use_type_id  \n",
       "0  12921.0  android               4.3  GT-I9505          1.0  \n",
       "1  28714.0  android               6.0  SM-G930F          1.0  \n",
       "2  28714.0  android               6.0  SM-G930F          1.0  \n",
       "3  29592.0  android               5.1     D2303          1.0  \n",
       "4  28217.0  android               5.1  SM-G361F          1.0  "
      ]
     },
     "execution_count": 27,
     "metadata": {},
     "output_type": "execute_result"
    }
   ],
   "source": [
    "full1.head()"
   ]
  },
  {
   "cell_type": "code",
   "execution_count": 28,
   "metadata": {
    "colab": {
     "base_uri": "https://localhost:8080/",
     "height": 204
    },
    "colab_type": "code",
    "id": "VxZm3l74qOhX",
    "outputId": "23f3d6b8-e23c-480e-968f-f53b30b27b1e"
   },
   "outputs": [
    {
     "data": {
      "text/html": [
       "<div>\n",
       "<style scoped>\n",
       "    .dataframe tbody tr th:only-of-type {\n",
       "        vertical-align: middle;\n",
       "    }\n",
       "\n",
       "    .dataframe tbody tr th {\n",
       "        vertical-align: top;\n",
       "    }\n",
       "\n",
       "    .dataframe thead th {\n",
       "        text-align: right;\n",
       "    }\n",
       "</style>\n",
       "<table border=\"1\" class=\"dataframe\">\n",
       "  <thead>\n",
       "    <tr style=\"text-align: right;\">\n",
       "      <th></th>\n",
       "      <th>outgoing_mins_per_month</th>\n",
       "      <th>outgoing_sms_per_month</th>\n",
       "      <th>monthly_mb</th>\n",
       "      <th>use_id</th>\n",
       "      <th>user_id</th>\n",
       "      <th>platform</th>\n",
       "      <th>platform_version</th>\n",
       "      <th>device</th>\n",
       "      <th>use_type_id</th>\n",
       "    </tr>\n",
       "  </thead>\n",
       "  <tbody>\n",
       "    <tr>\n",
       "      <td>235</td>\n",
       "      <td>260.66</td>\n",
       "      <td>68.44</td>\n",
       "      <td>896.96</td>\n",
       "      <td>25008</td>\n",
       "      <td>NaN</td>\n",
       "      <td>NaN</td>\n",
       "      <td>NaN</td>\n",
       "      <td>NaN</td>\n",
       "      <td>NaN</td>\n",
       "    </tr>\n",
       "    <tr>\n",
       "      <td>236</td>\n",
       "      <td>97.12</td>\n",
       "      <td>36.50</td>\n",
       "      <td>2815.00</td>\n",
       "      <td>25040</td>\n",
       "      <td>NaN</td>\n",
       "      <td>NaN</td>\n",
       "      <td>NaN</td>\n",
       "      <td>NaN</td>\n",
       "      <td>NaN</td>\n",
       "    </tr>\n",
       "    <tr>\n",
       "      <td>237</td>\n",
       "      <td>355.93</td>\n",
       "      <td>12.37</td>\n",
       "      <td>6828.09</td>\n",
       "      <td>25046</td>\n",
       "      <td>NaN</td>\n",
       "      <td>NaN</td>\n",
       "      <td>NaN</td>\n",
       "      <td>NaN</td>\n",
       "      <td>NaN</td>\n",
       "    </tr>\n",
       "    <tr>\n",
       "      <td>238</td>\n",
       "      <td>632.06</td>\n",
       "      <td>120.46</td>\n",
       "      <td>1453.16</td>\n",
       "      <td>25058</td>\n",
       "      <td>NaN</td>\n",
       "      <td>NaN</td>\n",
       "      <td>NaN</td>\n",
       "      <td>NaN</td>\n",
       "      <td>NaN</td>\n",
       "    </tr>\n",
       "    <tr>\n",
       "      <td>239</td>\n",
       "      <td>488.70</td>\n",
       "      <td>906.92</td>\n",
       "      <td>3089.85</td>\n",
       "      <td>25220</td>\n",
       "      <td>NaN</td>\n",
       "      <td>NaN</td>\n",
       "      <td>NaN</td>\n",
       "      <td>NaN</td>\n",
       "      <td>NaN</td>\n",
       "    </tr>\n",
       "  </tbody>\n",
       "</table>\n",
       "</div>"
      ],
      "text/plain": [
       "     outgoing_mins_per_month  outgoing_sms_per_month  monthly_mb  use_id  \\\n",
       "235                   260.66                   68.44      896.96   25008   \n",
       "236                    97.12                   36.50     2815.00   25040   \n",
       "237                   355.93                   12.37     6828.09   25046   \n",
       "238                   632.06                  120.46     1453.16   25058   \n",
       "239                   488.70                  906.92     3089.85   25220   \n",
       "\n",
       "     user_id platform  platform_version device  use_type_id  \n",
       "235      NaN      NaN               NaN    NaN          NaN  \n",
       "236      NaN      NaN               NaN    NaN          NaN  \n",
       "237      NaN      NaN               NaN    NaN          NaN  \n",
       "238      NaN      NaN               NaN    NaN          NaN  \n",
       "239      NaN      NaN               NaN    NaN          NaN  "
      ]
     },
     "execution_count": 28,
     "metadata": {},
     "output_type": "execute_result"
    }
   ],
   "source": [
    "full1.tail()"
   ]
  },
  {
   "cell_type": "markdown",
   "metadata": {
    "colab_type": "text",
    "id": "tktObuUpqS1A"
   },
   "source": [
    "Можно заметить, что появляются нулевые поля так как я использовала left join. То есть в итоговую таблицу помещаются те значения, которые ест в первой таблице, но их нет во второй таблице.\n",
    "\n",
    "\n",
    "\n"
   ]
  },
  {
   "cell_type": "code",
   "execution_count": 51,
   "metadata": {
    "colab": {
     "base_uri": "https://localhost:8080/",
     "height": 173
    },
    "colab_type": "code",
    "id": "G3KpOL5tqoT4",
    "outputId": "776e5287-f446-454a-9ee6-6fd3bb19a6e4"
   },
   "outputs": [
    {
     "name": "stdout",
     "output_type": "stream",
     "text": [
      "  platform outgoing_mins_per_month                            \n",
      "                               sum    min        mean      max\n",
      "0  android                31597.59   0.50  201.258535  1710.08\n",
      "1      ios                  732.12  50.68  366.060000   681.44\n",
      "Time: 0.00840902328491211\n"
     ]
    }
   ],
   "source": [
    "start = time.time()\n",
    "print(full1.groupby('platform', as_index=False).agg(\n",
    "    {'outgoing_mins_per_month' : ['sum', 'min', 'mean', 'max']}\n",
    "))\n",
    "end = time.time()\n",
    "print('Time:',end - start)"
   ]
  },
  {
   "cell_type": "markdown",
   "metadata": {
    "colab_type": "text",
    "id": "TVQE4PSnuVvG"
   },
   "source": [
    "Вывела для трех значений максимум, среднее, минимум, сумму (с помощью функции **агрегации**)"
   ]
  },
  {
   "cell_type": "markdown",
   "metadata": {
    "colab_type": "text",
    "id": "VSc4japMuhC3"
   },
   "source": [
    "# PandaSQL"
   ]
  },
  {
   "cell_type": "code",
   "execution_count": 30,
   "metadata": {
    "colab": {},
    "colab_type": "code",
    "id": "EO28Ua9jvNT-"
   },
   "outputs": [],
   "source": [
    "import pandasql as ps"
   ]
  },
  {
   "cell_type": "code",
   "execution_count": 37,
   "metadata": {
    "colab": {},
    "colab_type": "code",
    "id": "FEi09Pb6va6W"
   },
   "outputs": [],
   "source": [
    "def example_query(full1):\n",
    "    simple_query = '''\n",
    "        SELECT \n",
    "            outgoing_mins_per_month, \n",
    "            monthly_mb,\n",
    "            platform\n",
    "        FROM full1 \n",
    "        where 1=1\n",
    "        and monthly_mb >= 100\n",
    "        and platform = 'ios'\n",
    "        LIMIT 15\n",
    "        '''\n",
    "    return ps.sqldf(simple_query, locals())"
   ]
  },
  {
   "cell_type": "code",
   "execution_count": 38,
   "metadata": {
    "colab": {
     "base_uri": "https://localhost:8080/",
     "height": 514
    },
    "colab_type": "code",
    "id": "KfpjkGGEzw91",
    "outputId": "de302067-b6fa-48a1-dc36-38bce023532c"
   },
   "outputs": [
    {
     "data": {
      "text/html": [
       "<div>\n",
       "<style scoped>\n",
       "    .dataframe tbody tr th:only-of-type {\n",
       "        vertical-align: middle;\n",
       "    }\n",
       "\n",
       "    .dataframe tbody tr th {\n",
       "        vertical-align: top;\n",
       "    }\n",
       "\n",
       "    .dataframe thead th {\n",
       "        text-align: right;\n",
       "    }\n",
       "</style>\n",
       "<table border=\"1\" class=\"dataframe\">\n",
       "  <thead>\n",
       "    <tr style=\"text-align: right;\">\n",
       "      <th></th>\n",
       "      <th>outgoing_mins_per_month</th>\n",
       "      <th>monthly_mb</th>\n",
       "      <th>platform</th>\n",
       "    </tr>\n",
       "  </thead>\n",
       "  <tbody>\n",
       "    <tr>\n",
       "      <td>0</td>\n",
       "      <td>681.44</td>\n",
       "      <td>1271.39</td>\n",
       "      <td>ios</td>\n",
       "    </tr>\n",
       "    <tr>\n",
       "      <td>1</td>\n",
       "      <td>50.68</td>\n",
       "      <td>650.92</td>\n",
       "      <td>ios</td>\n",
       "    </tr>\n",
       "  </tbody>\n",
       "</table>\n",
       "</div>"
      ],
      "text/plain": [
       "   outgoing_mins_per_month  monthly_mb platform\n",
       "0                   681.44     1271.39      ios\n",
       "1                    50.68      650.92      ios"
      ]
     },
     "execution_count": 38,
     "metadata": {},
     "output_type": "execute_result"
    }
   ],
   "source": [
    "example_query(full1)"
   ]
  },
  {
   "cell_type": "code",
   "execution_count": 52,
   "metadata": {
    "colab": {},
    "colab_type": "code",
    "id": "b3Abyorb0sdE"
   },
   "outputs": [],
   "source": [
    "def aggr_query(full1):\n",
    "    aggr_query = '''\n",
    "        SELECT \n",
    "            platform,\n",
    "            Min(outgoing_mins_per_month),\n",
    "            Max(outgoing_mins_per_month),\n",
    "            Sum(outgoing_mins_per_month)\n",
    "        FROM full1 \n",
    "       group by platform\n",
    "        '''\n",
    "    return ps.sqldf(aggr_query, locals())"
   ]
  },
  {
   "cell_type": "code",
   "execution_count": 53,
   "metadata": {
    "colab": {
     "base_uri": "https://localhost:8080/",
     "height": 142
    },
    "colab_type": "code",
    "id": "K7KLKAkJ1ASo",
    "outputId": "d225a136-8dd4-4a8f-e54c-01890e92e1c5"
   },
   "outputs": [
    {
     "name": "stdout",
     "output_type": "stream",
     "text": [
      "  platform  Min(outgoing_mins_per_month)  Max(outgoing_mins_per_month)  \\\n",
      "0     None                         15.52                       1816.63   \n",
      "1  android                          0.50                       1710.08   \n",
      "2      ios                         50.68                        681.44   \n",
      "\n",
      "   Sum(outgoing_mins_per_month)  \n",
      "0                      33564.49  \n",
      "1                      31597.59  \n",
      "2                        732.12  \n",
      "Time: 0.013413190841674805\n"
     ]
    }
   ],
   "source": [
    "start = time.time()\n",
    "print(aggr_query(full1))\n",
    "end = time.time()\n",
    "print('Time:',end - start)"
   ]
  },
  {
   "cell_type": "code",
   "execution_count": 35,
   "metadata": {
    "colab": {},
    "colab_type": "code",
    "id": "GlEwLxSJ1TlD"
   },
   "outputs": [],
   "source": [
    "def join_query(user_usage, user_device):\n",
    "  join_query = '''\n",
    "  select *\n",
    "  from user_usage t0\n",
    "  join user_device t1\n",
    "  on t0.use_id = t1.use_id'''\n",
    "  \n",
    "  return ps.sqldf(join_query)"
   ]
  },
  {
   "cell_type": "code",
   "execution_count": 49,
   "metadata": {
    "colab": {
     "base_uri": "https://localhost:8080/",
     "height": 1969
    },
    "colab_type": "code",
    "id": "E4YgymVi3i6H",
    "outputId": "43551c2c-cedb-4753-9ed0-66f7f979d528"
   },
   "outputs": [
    {
     "name": "stdout",
     "output_type": "stream",
     "text": [
      "     outgoing_mins_per_month  outgoing_sms_per_month  monthly_mb  use_id  \\\n",
      "0                      21.97                    4.82     1557.33   22787   \n",
      "1                    1710.08                  136.88     7267.55   22788   \n",
      "2                    1710.08                  136.88     7267.55   22789   \n",
      "3                      94.46                   35.17      519.12   22790   \n",
      "4                      71.59                   79.26     1557.33   22792   \n",
      "..                       ...                     ...         ...     ...   \n",
      "154                   198.59                   90.49     5191.12   23043   \n",
      "155                   198.59                   90.49     3114.67   23044   \n",
      "156                   106.65                   82.13     5191.12   23046   \n",
      "157                   344.53                   20.53      519.12   23049   \n",
      "158                    42.75                   46.83     5191.12   23053   \n",
      "\n",
      "     use_id  user_id platform  platform_version                  device  \\\n",
      "0     22787    12921  android               4.3                GT-I9505   \n",
      "1     22788    28714  android               6.0                SM-G930F   \n",
      "2     22789    28714  android               6.0                SM-G930F   \n",
      "3     22790    29592  android               5.1                   D2303   \n",
      "4     22792    28217  android               5.1                SM-G361F   \n",
      "..      ...      ...      ...               ...                     ...   \n",
      "154   23043    28953  android               6.0                SM-G900F   \n",
      "155   23044    28953  android               6.0                SM-G900F   \n",
      "156   23046    29454  android               6.0              Moto G (4)   \n",
      "157   23049    29725  android               6.0                SM-G900F   \n",
      "158   23053    20257  android               5.1  Vodafone Smart ultra 6   \n",
      "\n",
      "     use_type_id  \n",
      "0              1  \n",
      "1              1  \n",
      "2              1  \n",
      "3              1  \n",
      "4              1  \n",
      "..           ...  \n",
      "154            1  \n",
      "155            1  \n",
      "156            1  \n",
      "157            1  \n",
      "158            1  \n",
      "\n",
      "[159 rows x 10 columns]\n",
      "Time: 0.039853811264038086\n"
     ]
    }
   ],
   "source": [
    "start = time.time()\n",
    "print(join_query(user_usage, user_device))\n",
    "end = time.time()\n",
    "print('Time:',end - start)"
   ]
  },
  {
   "cell_type": "code",
   "execution_count": null,
   "metadata": {},
   "outputs": [],
   "source": []
  },
  {
   "cell_type": "code",
   "execution_count": null,
   "metadata": {},
   "outputs": [],
   "source": []
  }
 ],
 "metadata": {
  "colab": {
   "collapsed_sections": [],
   "name": "Lab2_ML.ipynb",
   "provenance": [],
   "version": "0.3.2"
  },
  "kernelspec": {
   "display_name": "Python 3",
   "language": "python",
   "name": "python3"
  },
  "language_info": {
   "codemirror_mode": {
    "name": "ipython",
    "version": 3
   },
   "file_extension": ".py",
   "mimetype": "text/x-python",
   "name": "python",
   "nbconvert_exporter": "python",
   "pygments_lexer": "ipython3",
   "version": "3.7.4"
  }
 },
 "nbformat": 4,
 "nbformat_minor": 1
}
