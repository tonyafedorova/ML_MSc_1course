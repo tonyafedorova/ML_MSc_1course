{
 "cells": [
  {
   "cell_type": "markdown",
   "metadata": {
    "colab_type": "text",
    "id": "-kAydI4NTAJb"
   },
   "source": [
    " # Обработка пропусков в данных"
   ]
  },
  {
   "cell_type": "code",
   "execution_count": 1,
   "metadata": {
    "colab": {},
    "colab_type": "code",
    "id": "IiUk98fABPAv"
   },
   "outputs": [],
   "source": [
    "import numpy as np\n",
    "import pandas as pd\n",
    "import seaborn as sns\n",
    "import matplotlib.pyplot as plt\n",
    "%matplotlib inline \n",
    "sns.set(style=\"ticks\")"
   ]
  },
  {
   "cell_type": "code",
   "execution_count": 2,
   "metadata": {
    "colab": {},
    "colab_type": "code",
    "id": "rRsfXvkXCl4F"
   },
   "outputs": [],
   "source": [
    "data = pd.read_csv('/Users/a.fedorova/Desktop/учеба/Великолепная мага/2 сем/датасеты/AB_NYC_2019.csv', sep=\",\")"
   ]
  },
  {
   "cell_type": "code",
   "execution_count": 3,
   "metadata": {
    "colab": {
     "base_uri": "https://localhost:8080/",
     "height": 414
    },
    "colab_type": "code",
    "id": "HPBtdjvlxT-R",
    "outputId": "3def9b80-f295-4fc4-c4ae-6695ac187658"
   },
   "outputs": [
    {
     "data": {
      "text/html": [
       "<div>\n",
       "<style scoped>\n",
       "    .dataframe tbody tr th:only-of-type {\n",
       "        vertical-align: middle;\n",
       "    }\n",
       "\n",
       "    .dataframe tbody tr th {\n",
       "        vertical-align: top;\n",
       "    }\n",
       "\n",
       "    .dataframe thead th {\n",
       "        text-align: right;\n",
       "    }\n",
       "</style>\n",
       "<table border=\"1\" class=\"dataframe\">\n",
       "  <thead>\n",
       "    <tr style=\"text-align: right;\">\n",
       "      <th></th>\n",
       "      <th>id</th>\n",
       "      <th>name</th>\n",
       "      <th>host_id</th>\n",
       "      <th>host_name</th>\n",
       "      <th>neighbourhood_group</th>\n",
       "      <th>neighbourhood</th>\n",
       "      <th>latitude</th>\n",
       "      <th>longitude</th>\n",
       "      <th>room_type</th>\n",
       "      <th>price</th>\n",
       "      <th>minimum_nights</th>\n",
       "      <th>number_of_reviews</th>\n",
       "      <th>last_review</th>\n",
       "      <th>reviews_per_month</th>\n",
       "      <th>calculated_host_listings_count</th>\n",
       "      <th>availability_365</th>\n",
       "    </tr>\n",
       "  </thead>\n",
       "  <tbody>\n",
       "    <tr>\n",
       "      <td>0</td>\n",
       "      <td>2539</td>\n",
       "      <td>Clean &amp; quiet apt home by the park</td>\n",
       "      <td>2787</td>\n",
       "      <td>John</td>\n",
       "      <td>Brooklyn</td>\n",
       "      <td>Kensington</td>\n",
       "      <td>40.64749</td>\n",
       "      <td>-73.97237</td>\n",
       "      <td>Private room</td>\n",
       "      <td>149</td>\n",
       "      <td>1</td>\n",
       "      <td>9</td>\n",
       "      <td>2018-10-19</td>\n",
       "      <td>0.21</td>\n",
       "      <td>6</td>\n",
       "      <td>365</td>\n",
       "    </tr>\n",
       "    <tr>\n",
       "      <td>1</td>\n",
       "      <td>2595</td>\n",
       "      <td>Skylit Midtown Castle</td>\n",
       "      <td>2845</td>\n",
       "      <td>Jennifer</td>\n",
       "      <td>Manhattan</td>\n",
       "      <td>Midtown</td>\n",
       "      <td>40.75362</td>\n",
       "      <td>-73.98377</td>\n",
       "      <td>Entire home/apt</td>\n",
       "      <td>225</td>\n",
       "      <td>1</td>\n",
       "      <td>45</td>\n",
       "      <td>2019-05-21</td>\n",
       "      <td>0.38</td>\n",
       "      <td>2</td>\n",
       "      <td>355</td>\n",
       "    </tr>\n",
       "    <tr>\n",
       "      <td>2</td>\n",
       "      <td>3647</td>\n",
       "      <td>THE VILLAGE OF HARLEM....NEW YORK !</td>\n",
       "      <td>4632</td>\n",
       "      <td>Elisabeth</td>\n",
       "      <td>Manhattan</td>\n",
       "      <td>Harlem</td>\n",
       "      <td>40.80902</td>\n",
       "      <td>-73.94190</td>\n",
       "      <td>Private room</td>\n",
       "      <td>150</td>\n",
       "      <td>3</td>\n",
       "      <td>0</td>\n",
       "      <td>NaN</td>\n",
       "      <td>NaN</td>\n",
       "      <td>1</td>\n",
       "      <td>365</td>\n",
       "    </tr>\n",
       "    <tr>\n",
       "      <td>3</td>\n",
       "      <td>3831</td>\n",
       "      <td>Cozy Entire Floor of Brownstone</td>\n",
       "      <td>4869</td>\n",
       "      <td>LisaRoxanne</td>\n",
       "      <td>Brooklyn</td>\n",
       "      <td>Clinton Hill</td>\n",
       "      <td>40.68514</td>\n",
       "      <td>-73.95976</td>\n",
       "      <td>Entire home/apt</td>\n",
       "      <td>89</td>\n",
       "      <td>1</td>\n",
       "      <td>270</td>\n",
       "      <td>2019-07-05</td>\n",
       "      <td>4.64</td>\n",
       "      <td>1</td>\n",
       "      <td>194</td>\n",
       "    </tr>\n",
       "    <tr>\n",
       "      <td>4</td>\n",
       "      <td>5022</td>\n",
       "      <td>Entire Apt: Spacious Studio/Loft by central park</td>\n",
       "      <td>7192</td>\n",
       "      <td>Laura</td>\n",
       "      <td>Manhattan</td>\n",
       "      <td>East Harlem</td>\n",
       "      <td>40.79851</td>\n",
       "      <td>-73.94399</td>\n",
       "      <td>Entire home/apt</td>\n",
       "      <td>80</td>\n",
       "      <td>10</td>\n",
       "      <td>9</td>\n",
       "      <td>2018-11-19</td>\n",
       "      <td>0.10</td>\n",
       "      <td>1</td>\n",
       "      <td>0</td>\n",
       "    </tr>\n",
       "  </tbody>\n",
       "</table>\n",
       "</div>"
      ],
      "text/plain": [
       "     id                                              name  host_id  \\\n",
       "0  2539                Clean & quiet apt home by the park     2787   \n",
       "1  2595                             Skylit Midtown Castle     2845   \n",
       "2  3647               THE VILLAGE OF HARLEM....NEW YORK !     4632   \n",
       "3  3831                   Cozy Entire Floor of Brownstone     4869   \n",
       "4  5022  Entire Apt: Spacious Studio/Loft by central park     7192   \n",
       "\n",
       "     host_name neighbourhood_group neighbourhood  latitude  longitude  \\\n",
       "0         John            Brooklyn    Kensington  40.64749  -73.97237   \n",
       "1     Jennifer           Manhattan       Midtown  40.75362  -73.98377   \n",
       "2    Elisabeth           Manhattan        Harlem  40.80902  -73.94190   \n",
       "3  LisaRoxanne            Brooklyn  Clinton Hill  40.68514  -73.95976   \n",
       "4        Laura           Manhattan   East Harlem  40.79851  -73.94399   \n",
       "\n",
       "         room_type  price  minimum_nights  number_of_reviews last_review  \\\n",
       "0     Private room    149               1                  9  2018-10-19   \n",
       "1  Entire home/apt    225               1                 45  2019-05-21   \n",
       "2     Private room    150               3                  0         NaN   \n",
       "3  Entire home/apt     89               1                270  2019-07-05   \n",
       "4  Entire home/apt     80              10                  9  2018-11-19   \n",
       "\n",
       "   reviews_per_month  calculated_host_listings_count  availability_365  \n",
       "0               0.21                               6               365  \n",
       "1               0.38                               2               355  \n",
       "2                NaN                               1               365  \n",
       "3               4.64                               1               194  \n",
       "4               0.10                               1                 0  "
      ]
     },
     "execution_count": 3,
     "metadata": {},
     "output_type": "execute_result"
    }
   ],
   "source": [
    "data.head()"
   ]
  },
  {
   "cell_type": "code",
   "execution_count": 4,
   "metadata": {
    "colab": {
     "base_uri": "https://localhost:8080/",
     "height": 34
    },
    "colab_type": "code",
    "id": "WnJjBms2xjQA",
    "outputId": "c503e3b5-74f1-437e-ce45-14719bc4efc0"
   },
   "outputs": [
    {
     "data": {
      "text/plain": [
       "(48895, 16)"
      ]
     },
     "execution_count": 4,
     "metadata": {},
     "output_type": "execute_result"
    }
   ],
   "source": [
    "data.shape"
   ]
  },
  {
   "cell_type": "code",
   "execution_count": 5,
   "metadata": {
    "colab": {
     "base_uri": "https://localhost:8080/",
     "height": 374
    },
    "colab_type": "code",
    "id": "sLLh_LX2xlAE",
    "outputId": "bc760196-24e9-4635-b109-c8cabdd1c0c2"
   },
   "outputs": [
    {
     "data": {
      "text/plain": [
       "id                                  int64\n",
       "name                               object\n",
       "host_id                             int64\n",
       "host_name                          object\n",
       "neighbourhood_group                object\n",
       "neighbourhood                      object\n",
       "latitude                          float64\n",
       "longitude                         float64\n",
       "room_type                          object\n",
       "price                               int64\n",
       "minimum_nights                      int64\n",
       "number_of_reviews                   int64\n",
       "last_review                        object\n",
       "reviews_per_month                 float64\n",
       "calculated_host_listings_count      int64\n",
       "availability_365                    int64\n",
       "dtype: object"
      ]
     },
     "execution_count": 5,
     "metadata": {},
     "output_type": "execute_result"
    }
   ],
   "source": [
    "data.dtypes\n"
   ]
  },
  {
   "cell_type": "code",
   "execution_count": 6,
   "metadata": {
    "colab": {
     "base_uri": "https://localhost:8080/",
     "height": 374
    },
    "colab_type": "code",
    "id": "Rdh2muYsxrWi",
    "outputId": "ed1149f9-0bc0-4c07-9797-9120c3ce5412"
   },
   "outputs": [
    {
     "data": {
      "text/plain": [
       "id                                    0\n",
       "name                                 16\n",
       "host_id                               0\n",
       "host_name                            21\n",
       "neighbourhood_group                   0\n",
       "neighbourhood                         0\n",
       "latitude                              0\n",
       "longitude                             0\n",
       "room_type                             0\n",
       "price                                 0\n",
       "minimum_nights                        0\n",
       "number_of_reviews                     0\n",
       "last_review                       10052\n",
       "reviews_per_month                 10052\n",
       "calculated_host_listings_count        0\n",
       "availability_365                      0\n",
       "dtype: int64"
      ]
     },
     "execution_count": 6,
     "metadata": {},
     "output_type": "execute_result"
    }
   ],
   "source": [
    "data.isnull().sum()\n"
   ]
  },
  {
   "cell_type": "code",
   "execution_count": 14,
   "metadata": {},
   "outputs": [
    {
     "data": {
      "text/plain": [
       "id                                0.000000\n",
       "name                              0.000327\n",
       "host_id                           0.000000\n",
       "host_name                         0.000429\n",
       "neighbourhood_group               0.000000\n",
       "neighbourhood                     0.000000\n",
       "latitude                          0.000000\n",
       "longitude                         0.000000\n",
       "room_type                         0.000000\n",
       "price                             0.000000\n",
       "minimum_nights                    0.000000\n",
       "number_of_reviews                 0.000000\n",
       "last_review                       0.205583\n",
       "reviews_per_month                 0.205583\n",
       "calculated_host_listings_count    0.000000\n",
       "availability_365                  0.000000\n",
       "dtype: float64"
      ]
     },
     "execution_count": 14,
     "metadata": {},
     "output_type": "execute_result"
    }
   ],
   "source": [
    "data.isnull().mean()"
   ]
  },
  {
   "cell_type": "markdown",
   "metadata": {},
   "source": [
    "#### Можно и необходимо удалить 2 непоказательных столбца - reviews_per_month, last_review так как в этих столбцах наблюдается более 20% пропущенных значений."
   ]
  },
  {
   "cell_type": "code",
   "execution_count": 8,
   "metadata": {},
   "outputs": [],
   "source": [
    "# Колонки, которые можно удалить:\n",
    "colsForDel = ['last_review', 'reviews_per_month']"
   ]
  },
  {
   "cell_type": "code",
   "execution_count": 17,
   "metadata": {},
   "outputs": [
    {
     "data": {
      "text/plain": [
       "(48895, 14)"
      ]
     },
     "execution_count": 17,
     "metadata": {},
     "output_type": "execute_result"
    }
   ],
   "source": [
    "dataWithoutColumns = data.drop(columns=colsForDel)\n",
    "dataWithoutColumns.shape"
   ]
  },
  {
   "cell_type": "markdown",
   "metadata": {},
   "source": [
    "### Таким образом мы получили более достоверные данные, при этом потеряли 2 из 16 признаков, но не потеряли количество строк"
   ]
  },
  {
   "cell_type": "markdown",
   "metadata": {},
   "source": [
    "# тут продолжить"
   ]
  },
  {
   "cell_type": "markdown",
   "metadata": {
    "colab_type": "text",
    "id": "gdH7fBbC0IEJ"
   },
   "source": [
    "Видно, что таким способом мы потеряли больше 20% датасета. В моем случае такие потери данных критичны так как я взяла небольшой датасет."
   ]
  },
  {
   "cell_type": "code",
   "execution_count": 49,
   "metadata": {
    "colab": {
     "base_uri": "https://localhost:8080/",
     "height": 34
    },
    "colab_type": "code",
    "id": "JDGyUVwG0mC9",
    "outputId": "a606041c-2e65-4743-b8c5-cc96df3446c8"
   },
   "outputs": [
    {
     "name": "stdout",
     "output_type": "stream",
     "text": [
      "Колонка GDP ($ per capita). Тип данных float64. Количество пустых значений 1, 0.44%.\n"
     ]
    }
   ],
   "source": [
    "num_cols = []\n",
    "for col in data.columns:\n",
    "    null_count = data[data[col].isnull()].shape[0]\n",
    "    col_type = str(data[col].dtype)\n",
    "    if null_count>0 and (col_type=='float64' or col_type=='int64'):\n",
    "        num_cols.append(col)\n",
    "        temp_perc = round((null_count / data.shape[0]) * 100.0, 2)\n",
    "        print('Колонка {}. Тип данных {}. Количество пустых значений {}, {}%.'.format(col, col_type, null_count, temp_perc))"
   ]
  },
  {
   "cell_type": "markdown",
   "metadata": {
    "colab_type": "text",
    "id": "4NPLXet74QcB"
   },
   "source": [
    "Получается, в моем датасете только одна колонка с нулевым значением в числовой фиче. Причем, нулевое значение только одно."
   ]
  },
  {
   "cell_type": "code",
   "execution_count": 50,
   "metadata": {
    "colab": {
     "base_uri": "https://localhost:8080/",
     "height": 34
    },
    "colab_type": "code",
    "id": "jbiZOmfV4kP2",
    "outputId": "4d0d8163-9082-455d-d562-053ad649b1aa"
   },
   "outputs": [
    {
     "data": {
      "text/plain": [
       "Int64Index([223], dtype='int64')"
      ]
     },
     "execution_count": 50,
     "metadata": {
      "tags": []
     },
     "output_type": "execute_result"
    }
   ],
   "source": [
    "null_index = data[data['GDP ($ per capita)'].isnull()].index\n",
    "null_index"
   ]
  },
  {
   "cell_type": "code",
   "execution_count": 51,
   "metadata": {
    "colab": {
     "base_uri": "https://localhost:8080/",
     "height": 205
    },
    "colab_type": "code",
    "id": "1JsUBzVD5GMy",
    "outputId": "de4bab31-2544-449e-c010-1b6b010ea118"
   },
   "outputs": [
    {
     "data": {
      "text/html": [
       "<div>\n",
       "<style scoped>\n",
       "    .dataframe tbody tr th:only-of-type {\n",
       "        vertical-align: middle;\n",
       "    }\n",
       "\n",
       "    .dataframe tbody tr th {\n",
       "        vertical-align: top;\n",
       "    }\n",
       "\n",
       "    .dataframe thead th {\n",
       "        text-align: right;\n",
       "    }\n",
       "</style>\n",
       "<table border=\"1\" class=\"dataframe\">\n",
       "  <thead>\n",
       "    <tr style=\"text-align: right;\">\n",
       "      <th></th>\n",
       "      <th>Country</th>\n",
       "      <th>Region</th>\n",
       "      <th>Population</th>\n",
       "      <th>Area (sq. mi.)</th>\n",
       "      <th>Pop. Density (per sq. mi.)</th>\n",
       "      <th>Coastline (coast/area ratio)</th>\n",
       "      <th>Net migration</th>\n",
       "      <th>Infant mortality (per 1000 births)</th>\n",
       "      <th>GDP ($ per capita)</th>\n",
       "      <th>Literacy (%)</th>\n",
       "      <th>Phones (per 1000)</th>\n",
       "      <th>Arable (%)</th>\n",
       "      <th>Crops (%)</th>\n",
       "      <th>Other (%)</th>\n",
       "      <th>Climate</th>\n",
       "      <th>Birthrate</th>\n",
       "      <th>Deathrate</th>\n",
       "      <th>Agriculture</th>\n",
       "      <th>Industry</th>\n",
       "      <th>Service</th>\n",
       "    </tr>\n",
       "  </thead>\n",
       "  <tbody>\n",
       "    <tr>\n",
       "      <th>223</th>\n",
       "      <td>Western Sahara</td>\n",
       "      <td>NORTHERN AFRICA</td>\n",
       "      <td>273008</td>\n",
       "      <td>266000</td>\n",
       "      <td>1,0</td>\n",
       "      <td>0,42</td>\n",
       "      <td>NaN</td>\n",
       "      <td>NaN</td>\n",
       "      <td>NaN</td>\n",
       "      <td>NaN</td>\n",
       "      <td>NaN</td>\n",
       "      <td>0,02</td>\n",
       "      <td>0</td>\n",
       "      <td>99,98</td>\n",
       "      <td>1</td>\n",
       "      <td>NaN</td>\n",
       "      <td>NaN</td>\n",
       "      <td>NaN</td>\n",
       "      <td>NaN</td>\n",
       "      <td>0,4</td>\n",
       "    </tr>\n",
       "  </tbody>\n",
       "</table>\n",
       "</div>"
      ],
      "text/plain": [
       "             Country                               Region  Population  \\\n",
       "223  Western Sahara   NORTHERN AFRICA                          273008   \n",
       "\n",
       "     Area (sq. mi.) Pop. Density (per sq. mi.) Coastline (coast/area ratio)  \\\n",
       "223          266000                        1,0                         0,42   \n",
       "\n",
       "    Net migration Infant mortality (per 1000 births)  GDP ($ per capita)  \\\n",
       "223           NaN                                NaN                 NaN   \n",
       "\n",
       "    Literacy (%) Phones (per 1000) Arable (%) Crops (%) Other (%) Climate  \\\n",
       "223          NaN               NaN       0,02         0     99,98       1   \n",
       "\n",
       "    Birthrate Deathrate Agriculture Industry Service  \n",
       "223       NaN       NaN         NaN      NaN     0,4  "
      ]
     },
     "execution_count": 51,
     "metadata": {
      "tags": []
     },
     "output_type": "execute_result"
    }
   ],
   "source": [
    "data[data.index.isin(null_index)]"
   ]
  },
  {
   "cell_type": "code",
   "execution_count": 0,
   "metadata": {
    "colab": {},
    "colab_type": "code",
    "id": "Lb54dWOs6ZI1"
   },
   "outputs": [],
   "source": [
    "from sklearn.impute import SimpleImputer\n",
    "from sklearn.impute import MissingIndicator"
   ]
  },
  {
   "cell_type": "code",
   "execution_count": 0,
   "metadata": {
    "colab": {},
    "colab_type": "code",
    "id": "g662ymXP6aHh"
   },
   "outputs": [],
   "source": [
    "# Фильтр для проверки заполнения пустых значений\n",
    "indicator = MissingIndicator()\n",
    "mask_missing_values_only = indicator.fit_transform(data[['GDP ($ per capita)']])"
   ]
  },
  {
   "cell_type": "code",
   "execution_count": 54,
   "metadata": {
    "colab": {
     "base_uri": "https://localhost:8080/",
     "height": 34
    },
    "colab_type": "code",
    "id": "QZKSnsZj7swp",
    "outputId": "00df09f9-9839-4884-cb42-8ef69dad7e01"
   },
   "outputs": [
    {
     "data": {
      "text/plain": [
       "array([9689.82300885])"
      ]
     },
     "execution_count": 54,
     "metadata": {
      "tags": []
     },
     "output_type": "execute_result"
    }
   ],
   "source": [
    "imp_num = SimpleImputer(strategy='mean')\n",
    "data_num_imp = imp_num.fit_transform(data[['GDP ($ per capita)']])\n",
    "data_num_imp[mask_missing_values_only]"
   ]
  },
  {
   "cell_type": "markdown",
   "metadata": {
    "colab_type": "text",
    "id": "hdIsM1WJ9W2O"
   },
   "source": [
    "Теперь надо разобраться с пропусками в категориальных фичах. Я выберу те колонки, в которых меньше всего пропущенных значений."
   ]
  },
  {
   "cell_type": "code",
   "execution_count": 55,
   "metadata": {
    "colab": {
     "base_uri": "https://localhost:8080/",
     "height": 238
    },
    "colab_type": "code",
    "id": "5cz7AvHZ-H0X",
    "outputId": "33387079-e141-4b7b-e5f7-70746b05732d"
   },
   "outputs": [
    {
     "name": "stdout",
     "output_type": "stream",
     "text": [
      "Колонка Net migration. Тип данных object. Количество пустых значений 3, 1.32%.\n",
      "Колонка Infant mortality (per 1000 births). Тип данных object. Количество пустых значений 3, 1.32%.\n",
      "Колонка Literacy (%). Тип данных object. Количество пустых значений 18, 7.93%.\n",
      "Колонка Phones (per 1000). Тип данных object. Количество пустых значений 4, 1.76%.\n",
      "Колонка Arable (%). Тип данных object. Количество пустых значений 2, 0.88%.\n",
      "Колонка Crops (%). Тип данных object. Количество пустых значений 2, 0.88%.\n",
      "Колонка Other (%). Тип данных object. Количество пустых значений 2, 0.88%.\n",
      "Колонка Climate. Тип данных object. Количество пустых значений 22, 9.69%.\n",
      "Колонка Birthrate. Тип данных object. Количество пустых значений 3, 1.32%.\n",
      "Колонка Deathrate. Тип данных object. Количество пустых значений 4, 1.76%.\n",
      "Колонка Agriculture. Тип данных object. Количество пустых значений 15, 6.61%.\n",
      "Колонка Industry. Тип данных object. Количество пустых значений 16, 7.05%.\n",
      "Колонка Service. Тип данных object. Количество пустых значений 15, 6.61%.\n"
     ]
    }
   ],
   "source": [
    "num_cols = []\n",
    "for col in data.columns:\n",
    "    null_count = data[data[col].isnull()].shape[0]\n",
    "    col_type = str(data[col].dtype)\n",
    "    if null_count>0 and (col_type=='object'):\n",
    "        num_cols.append(col)\n",
    "        temp_perc = round((null_count / data.shape[0]) * 100.0, 2)\n",
    "        print('Колонка {}. Тип данных {}. Количество пустых значений {}, {}%.'.format(col, col_type, null_count, temp_perc))"
   ]
  },
  {
   "cell_type": "code",
   "execution_count": 56,
   "metadata": {
    "colab": {
     "base_uri": "https://localhost:8080/",
     "height": 204
    },
    "colab_type": "code",
    "id": "hmpoXa8lPdLu",
    "outputId": "b23f5ec5-9ac1-4a3b-fef0-d18bbcb94a5f"
   },
   "outputs": [
    {
     "data": {
      "text/html": [
       "<div>\n",
       "<style scoped>\n",
       "    .dataframe tbody tr th:only-of-type {\n",
       "        vertical-align: middle;\n",
       "    }\n",
       "\n",
       "    .dataframe tbody tr th {\n",
       "        vertical-align: top;\n",
       "    }\n",
       "\n",
       "    .dataframe thead th {\n",
       "        text-align: right;\n",
       "    }\n",
       "</style>\n",
       "<table border=\"1\" class=\"dataframe\">\n",
       "  <thead>\n",
       "    <tr style=\"text-align: right;\">\n",
       "      <th></th>\n",
       "      <th>Crops (%)</th>\n",
       "    </tr>\n",
       "  </thead>\n",
       "  <tbody>\n",
       "    <tr>\n",
       "      <th>0</th>\n",
       "      <td>0,22</td>\n",
       "    </tr>\n",
       "    <tr>\n",
       "      <th>1</th>\n",
       "      <td>4,42</td>\n",
       "    </tr>\n",
       "    <tr>\n",
       "      <th>2</th>\n",
       "      <td>0,25</td>\n",
       "    </tr>\n",
       "    <tr>\n",
       "      <th>3</th>\n",
       "      <td>15</td>\n",
       "    </tr>\n",
       "    <tr>\n",
       "      <th>4</th>\n",
       "      <td>0</td>\n",
       "    </tr>\n",
       "  </tbody>\n",
       "</table>\n",
       "</div>"
      ],
      "text/plain": [
       "  Crops (%)\n",
       "0      0,22\n",
       "1      4,42\n",
       "2      0,25\n",
       "3        15\n",
       "4         0"
      ]
     },
     "execution_count": 56,
     "metadata": {
      "tags": []
     },
     "output_type": "execute_result"
    }
   ],
   "source": [
    "cat_temp_data = data[['Crops (%)']]\n",
    "cat_temp_data.head()"
   ]
  },
  {
   "cell_type": "code",
   "execution_count": 57,
   "metadata": {
    "colab": {
     "base_uri": "https://localhost:8080/",
     "height": 374
    },
    "colab_type": "code",
    "id": "rI0zWjaGQ5lC",
    "outputId": "c72ad63a-f4cd-43b8-c61e-66046e43bfa9"
   },
   "outputs": [
    {
     "data": {
      "text/plain": [
       "array(['0,22', '4,42', '0,25', '15', '0', '0,24', '4,55', '0,48', '2,3',\n",
       "       '0,04', '0,86', '2,71', '0,4', '5,63', '3,07', '2,33', '0,6',\n",
       "       '1,71', '2,4', '0,43', '0,19', '2,96', '0,01', '0,9', '6,67',\n",
       "       '0,76', '1,92', '0,97', '14,02', '0,61', '2,58', '0,02', '0,5',\n",
       "       '0,14', '0,42', '1,25', '1,67', '23,32', '0,52', '0,13', '13,04',\n",
       "       '5,88', '13,84', '2,27', '7,6', '4,44', '3,05', '20', '10,33',\n",
       "       '0,67', '4,93', '12,07', '3,57', '0,03', '0,45', '0,75', '4,65',\n",
       "       '2,07', '0,05', '5,46', '0,66', '21,05', '3,86', '0,59', '9,67',\n",
       "       '8,78', '29,41', '3,55', '16,36', '5,03', nan, '8,82', '0,15',\n",
       "       '11,61', '3,22', '1,01', '2,06', '2,74', '7,23', '1,39', '0,78',\n",
       "       '4,17', '9,53', '10,16', '0,96', '1,83', '0,98', '50,68', '2,49',\n",
       "       '1,95', '0,11', '0,35', '0,47', '13,98', '2,28', '0,91', '1,81',\n",
       "       '1,03', '1,49', '17,61', '16,67', '3,13', '38,89', '9,43', '1,31',\n",
       "       '45,71', '10,79', '2,17', '0,3', '0,64', '0,33', '6,99', '1,94',\n",
       "       '4,35', '0,87', '1,98', '1,44', '0,23', '16,77', '1,12', '7,81',\n",
       "       '5,52', '0,27', '1,2', '2,25', '12,16', '2,78', '22,95', '17,95',\n",
       "       '24,38', '48,96', '0,09', '0,21', '3,2', '13,33', '0,89', '2,62',\n",
       "       '2', '0,79', '9,87', '15,7', '0,18', '0,06', '0,7', '4,43', '1',\n",
       "       '0,92', '1,08', '6,46', '2,21', '43,06', '9,16', '13,74', '3,31',\n",
       "       '10,65', '1,61', '0,83', '7,38', '5,95', '2,94', '25', '18,97',\n",
       "       '0,34'], dtype=object)"
      ]
     },
     "execution_count": 57,
     "metadata": {
      "tags": []
     },
     "output_type": "execute_result"
    }
   ],
   "source": [
    "cat_temp_data['Crops (%)'].unique()\n"
   ]
  },
  {
   "cell_type": "code",
   "execution_count": 58,
   "metadata": {
    "colab": {
     "base_uri": "https://localhost:8080/",
     "height": 3876
    },
    "colab_type": "code",
    "id": "l5CPV44NSTRl",
    "outputId": "18809937-20ca-4fb7-cd13-02969d69db74"
   },
   "outputs": [
    {
     "data": {
      "text/plain": [
       "array([['0,22'],\n",
       "       ['4,42'],\n",
       "       ['0,25'],\n",
       "       ['15'],\n",
       "       ['0'],\n",
       "       ['0,24'],\n",
       "       ['0'],\n",
       "       ['4,55'],\n",
       "       ['0,48'],\n",
       "       ['2,3'],\n",
       "       ['0'],\n",
       "       ['0,04'],\n",
       "       ['0,86'],\n",
       "       ['2,71'],\n",
       "       ['0,4'],\n",
       "       ['5,63'],\n",
       "       ['3,07'],\n",
       "       ['2,33'],\n",
       "       ['0,6'],\n",
       "       ['0,4'],\n",
       "       ['1,71'],\n",
       "       ['2,4'],\n",
       "       ['0'],\n",
       "       ['0,43'],\n",
       "       ['0,19'],\n",
       "       ['2,96'],\n",
       "       ['0,01'],\n",
       "       ['0,9'],\n",
       "       ['6,67'],\n",
       "       ['0,76'],\n",
       "       ['1,92'],\n",
       "       ['0,19'],\n",
       "       ['0,97'],\n",
       "       ['14,02'],\n",
       "       ['0,61'],\n",
       "       ['2,58'],\n",
       "       ['0,02'],\n",
       "       ['0,5'],\n",
       "       ['0'],\n",
       "       ['0,14'],\n",
       "       ['0,02'],\n",
       "       ['0,42'],\n",
       "       ['1,25'],\n",
       "       ['1,67'],\n",
       "       ['23,32'],\n",
       "       ['0,52'],\n",
       "       ['0,13'],\n",
       "       ['13,04'],\n",
       "       ['5,88'],\n",
       "       ['13,84'],\n",
       "       ['2,27'],\n",
       "       ['7,6'],\n",
       "       ['4,44'],\n",
       "       ['3,05'],\n",
       "       ['0,19'],\n",
       "       ['0'],\n",
       "       ['20'],\n",
       "       ['10,33'],\n",
       "       ['0,67'],\n",
       "       ['4,93'],\n",
       "       ['0,48'],\n",
       "       ['12,07'],\n",
       "       ['3,57'],\n",
       "       ['0,03'],\n",
       "       ['0,45'],\n",
       "       ['0,75'],\n",
       "       ['0'],\n",
       "       ['4,65'],\n",
       "       ['0,03'],\n",
       "       ['2,07'],\n",
       "       ['0,05'],\n",
       "       ['5,46'],\n",
       "       ['0,66'],\n",
       "       ['0,5'],\n",
       "       ['21,05'],\n",
       "       ['3,86'],\n",
       "       ['0,59'],\n",
       "       ['9,67'],\n",
       "       ['0'],\n",
       "       ['8,78'],\n",
       "       ['0'],\n",
       "       ['29,41'],\n",
       "       ['3,55'],\n",
       "       ['16,36'],\n",
       "       ['5,03'],\n",
       "       ['0'],\n",
       "       ['2,58'],\n",
       "       ['8,82'],\n",
       "       ['0,15'],\n",
       "       ['11,61'],\n",
       "       ['3,22'],\n",
       "       ['1,01'],\n",
       "       ['2,06'],\n",
       "       ['0'],\n",
       "       ['2,74'],\n",
       "       ['7,23'],\n",
       "       ['1,39'],\n",
       "       ['0,78'],\n",
       "       ['0,03'],\n",
       "       ['0'],\n",
       "       ['4,17'],\n",
       "       ['9,53'],\n",
       "       ['10,16'],\n",
       "       ['0,96'],\n",
       "       ['0'],\n",
       "       ['1,83'],\n",
       "       ['0,05'],\n",
       "       ['0,98'],\n",
       "       ['50,68'],\n",
       "       ['2,49'],\n",
       "       ['1,95'],\n",
       "       ['0,11'],\n",
       "       ['0,35'],\n",
       "       ['0,35'],\n",
       "       ['0,47'],\n",
       "       ['13,98'],\n",
       "       ['0,13'],\n",
       "       ['2,28'],\n",
       "       ['0,19'],\n",
       "       ['0'],\n",
       "       ['0,91'],\n",
       "       ['0,4'],\n",
       "       ['0'],\n",
       "       ['1,81'],\n",
       "       ['1,03'],\n",
       "       ['1,49'],\n",
       "       ['17,61'],\n",
       "       ['16,67'],\n",
       "       ['0,03'],\n",
       "       ['3,13'],\n",
       "       ['38,89'],\n",
       "       ['9,43'],\n",
       "       ['0,01'],\n",
       "       ['2,96'],\n",
       "       ['0'],\n",
       "       ['1,31'],\n",
       "       ['45,71'],\n",
       "       ['10,79'],\n",
       "       ['0'],\n",
       "       ['0'],\n",
       "       ['0'],\n",
       "       ['2,17'],\n",
       "       ['0,3'],\n",
       "       ['0'],\n",
       "       ['0'],\n",
       "       ['0,64'],\n",
       "       ['0,97'],\n",
       "       ['0'],\n",
       "       ['0,33'],\n",
       "       ['6,99'],\n",
       "       ['1,94'],\n",
       "       ['0,01'],\n",
       "       ['2,96'],\n",
       "       ['4,35'],\n",
       "       ['0'],\n",
       "       ['0,14'],\n",
       "       ['0,87'],\n",
       "       ['4,35'],\n",
       "       ['1,98'],\n",
       "       ['1,44'],\n",
       "       ['0,23'],\n",
       "       ['0,4'],\n",
       "       ['16,77'],\n",
       "       ['1,12'],\n",
       "       ['7,81'],\n",
       "       ['5,52'],\n",
       "       ['0,27'],\n",
       "       ['1,2'],\n",
       "       ['2,25'],\n",
       "       ['0,11'],\n",
       "       ['12,16'],\n",
       "       ['0'],\n",
       "       ['2,78'],\n",
       "       ['22,95'],\n",
       "       ['0'],\n",
       "       ['17,95'],\n",
       "       ['24,38'],\n",
       "       ['0'],\n",
       "       ['48,96'],\n",
       "       ['0,09'],\n",
       "       ['0,21'],\n",
       "       ['3,2'],\n",
       "       ['13,33'],\n",
       "       ['0,89'],\n",
       "       ['0'],\n",
       "       ['2,62'],\n",
       "       ['1,49'],\n",
       "       ['2'],\n",
       "       ['0,04'],\n",
       "       ['0,79'],\n",
       "       ['9,87'],\n",
       "       ['15,7'],\n",
       "       ['0,18'],\n",
       "       ['0,06'],\n",
       "       ['0,7'],\n",
       "       ['0,01'],\n",
       "       ['0,61'],\n",
       "       ['4,43'],\n",
       "       ['1'],\n",
       "       ['0,92'],\n",
       "       ['1,08'],\n",
       "       ['6,46'],\n",
       "       ['2,21'],\n",
       "       ['43,06'],\n",
       "       ['9,16'],\n",
       "       ['13,74'],\n",
       "       ['3,31'],\n",
       "       ['0,14'],\n",
       "       ['0'],\n",
       "       ['0'],\n",
       "       ['10,65'],\n",
       "       ['1,61'],\n",
       "       ['2,25'],\n",
       "       ['0,21'],\n",
       "       ['0,22'],\n",
       "       ['0,23'],\n",
       "       ['0,83'],\n",
       "       ['7,38'],\n",
       "       ['0,92'],\n",
       "       ['5,95'],\n",
       "       ['2,94'],\n",
       "       ['25'],\n",
       "       ['18,97'],\n",
       "       ['0'],\n",
       "       ['0,24'],\n",
       "       ['0,03'],\n",
       "       ['0,34']], dtype=object)"
      ]
     },
     "execution_count": 58,
     "metadata": {
      "tags": []
     },
     "output_type": "execute_result"
    }
   ],
   "source": [
    "# Импьютация наиболее частыми значениями\n",
    "imp2 = SimpleImputer(missing_values=np.nan, strategy='most_frequent')\n",
    "data_imp2 = imp2.fit_transform(cat_temp_data)\n",
    "data_imp2"
   ]
  },
  {
   "cell_type": "code",
   "execution_count": 59,
   "metadata": {
    "colab": {
     "base_uri": "https://localhost:8080/",
     "height": 374
    },
    "colab_type": "code",
    "id": "MxNrlh1KSdQ6",
    "outputId": "da645d0b-1d64-4486-e45a-7170ea974081"
   },
   "outputs": [
    {
     "data": {
      "text/plain": [
       "array(['0', '0,01', '0,02', '0,03', '0,04', '0,05', '0,06', '0,09',\n",
       "       '0,11', '0,13', '0,14', '0,15', '0,18', '0,19', '0,21', '0,22',\n",
       "       '0,23', '0,24', '0,25', '0,27', '0,3', '0,33', '0,34', '0,35',\n",
       "       '0,4', '0,42', '0,43', '0,45', '0,47', '0,48', '0,5', '0,52',\n",
       "       '0,59', '0,6', '0,61', '0,64', '0,66', '0,67', '0,7', '0,75',\n",
       "       '0,76', '0,78', '0,79', '0,83', '0,86', '0,87', '0,89', '0,9',\n",
       "       '0,91', '0,92', '0,96', '0,97', '0,98', '1', '1,01', '1,03',\n",
       "       '1,08', '1,12', '1,2', '1,25', '1,31', '1,39', '1,44', '1,49',\n",
       "       '1,61', '1,67', '1,71', '1,81', '1,83', '1,92', '1,94', '1,95',\n",
       "       '1,98', '10,16', '10,33', '10,65', '10,79', '11,61', '12,07',\n",
       "       '12,16', '13,04', '13,33', '13,74', '13,84', '13,98', '14,02',\n",
       "       '15', '15,7', '16,36', '16,67', '16,77', '17,61', '17,95', '18,97',\n",
       "       '2', '2,06', '2,07', '2,17', '2,21', '2,25', '2,27', '2,28', '2,3',\n",
       "       '2,33', '2,4', '2,49', '2,58', '2,62', '2,71', '2,74', '2,78',\n",
       "       '2,94', '2,96', '20', '21,05', '22,95', '23,32', '24,38', '25',\n",
       "       '29,41', '3,05', '3,07', '3,13', '3,2', '3,22', '3,31', '3,55',\n",
       "       '3,57', '3,86', '38,89', '4,17', '4,35', '4,42', '4,43', '4,44',\n",
       "       '4,55', '4,65', '4,93', '43,06', '45,71', '48,96', '5,03', '5,46',\n",
       "       '5,52', '5,63', '5,88', '5,95', '50,68', '6,46', '6,67', '6,99',\n",
       "       '7,23', '7,38', '7,6', '7,81', '8,78', '8,82', '9,16', '9,43',\n",
       "       '9,53', '9,67', '9,87'], dtype=object)"
      ]
     },
     "execution_count": 59,
     "metadata": {
      "tags": []
     },
     "output_type": "execute_result"
    }
   ],
   "source": [
    "np.unique(data_imp2)\n"
   ]
  },
  {
   "cell_type": "code",
   "execution_count": 60,
   "metadata": {
    "colab": {
     "base_uri": "https://localhost:8080/",
     "height": 3876
    },
    "colab_type": "code",
    "id": "Ryrlp7YpSiBs",
    "outputId": "b4ce07fd-bda0-4bc1-d6fb-bf04a82b3237"
   },
   "outputs": [
    {
     "data": {
      "text/plain": [
       "array([['0,22'],\n",
       "       ['4,42'],\n",
       "       ['0,25'],\n",
       "       ['15'],\n",
       "       ['0'],\n",
       "       ['0,24'],\n",
       "       ['0'],\n",
       "       ['4,55'],\n",
       "       ['0,48'],\n",
       "       ['2,3'],\n",
       "       ['0'],\n",
       "       ['0,04'],\n",
       "       ['0,86'],\n",
       "       ['2,71'],\n",
       "       ['0,4'],\n",
       "       ['5,63'],\n",
       "       ['3,07'],\n",
       "       ['2,33'],\n",
       "       ['0,6'],\n",
       "       ['0,4'],\n",
       "       ['1,71'],\n",
       "       ['2,4'],\n",
       "       ['0'],\n",
       "       ['0,43'],\n",
       "       ['0,19'],\n",
       "       ['2,96'],\n",
       "       ['0,01'],\n",
       "       ['0,9'],\n",
       "       ['6,67'],\n",
       "       ['0,76'],\n",
       "       ['1,92'],\n",
       "       ['0,19'],\n",
       "       ['0,97'],\n",
       "       ['14,02'],\n",
       "       ['0,61'],\n",
       "       ['2,58'],\n",
       "       ['0,02'],\n",
       "       ['0,5'],\n",
       "       ['0'],\n",
       "       ['0,14'],\n",
       "       ['0,02'],\n",
       "       ['0,42'],\n",
       "       ['1,25'],\n",
       "       ['1,67'],\n",
       "       ['23,32'],\n",
       "       ['0,52'],\n",
       "       ['0,13'],\n",
       "       ['13,04'],\n",
       "       ['5,88'],\n",
       "       ['13,84'],\n",
       "       ['2,27'],\n",
       "       ['7,6'],\n",
       "       ['4,44'],\n",
       "       ['3,05'],\n",
       "       ['0,19'],\n",
       "       ['0'],\n",
       "       ['20'],\n",
       "       ['10,33'],\n",
       "       ['0,67'],\n",
       "       ['4,93'],\n",
       "       ['0,48'],\n",
       "       ['12,07'],\n",
       "       ['3,57'],\n",
       "       ['0,03'],\n",
       "       ['0,45'],\n",
       "       ['0,75'],\n",
       "       ['0'],\n",
       "       ['4,65'],\n",
       "       ['0,03'],\n",
       "       ['2,07'],\n",
       "       ['0,05'],\n",
       "       ['5,46'],\n",
       "       ['0,66'],\n",
       "       ['0,5'],\n",
       "       ['21,05'],\n",
       "       ['3,86'],\n",
       "       ['0,59'],\n",
       "       ['9,67'],\n",
       "       ['0'],\n",
       "       ['8,78'],\n",
       "       ['0'],\n",
       "       ['29,41'],\n",
       "       ['3,55'],\n",
       "       ['16,36'],\n",
       "       ['5,03'],\n",
       "       ['<3'],\n",
       "       ['2,58'],\n",
       "       ['8,82'],\n",
       "       ['0,15'],\n",
       "       ['11,61'],\n",
       "       ['3,22'],\n",
       "       ['1,01'],\n",
       "       ['2,06'],\n",
       "       ['0'],\n",
       "       ['2,74'],\n",
       "       ['7,23'],\n",
       "       ['1,39'],\n",
       "       ['0,78'],\n",
       "       ['0,03'],\n",
       "       ['0'],\n",
       "       ['4,17'],\n",
       "       ['9,53'],\n",
       "       ['10,16'],\n",
       "       ['0,96'],\n",
       "       ['0'],\n",
       "       ['1,83'],\n",
       "       ['0,05'],\n",
       "       ['0,98'],\n",
       "       ['50,68'],\n",
       "       ['2,49'],\n",
       "       ['1,95'],\n",
       "       ['0,11'],\n",
       "       ['0,35'],\n",
       "       ['0,35'],\n",
       "       ['0,47'],\n",
       "       ['13,98'],\n",
       "       ['0,13'],\n",
       "       ['2,28'],\n",
       "       ['0,19'],\n",
       "       ['0'],\n",
       "       ['0,91'],\n",
       "       ['0,4'],\n",
       "       ['0'],\n",
       "       ['1,81'],\n",
       "       ['1,03'],\n",
       "       ['1,49'],\n",
       "       ['17,61'],\n",
       "       ['16,67'],\n",
       "       ['0,03'],\n",
       "       ['3,13'],\n",
       "       ['38,89'],\n",
       "       ['9,43'],\n",
       "       ['0,01'],\n",
       "       ['2,96'],\n",
       "       ['<3'],\n",
       "       ['1,31'],\n",
       "       ['45,71'],\n",
       "       ['10,79'],\n",
       "       ['0'],\n",
       "       ['0'],\n",
       "       ['0'],\n",
       "       ['2,17'],\n",
       "       ['0,3'],\n",
       "       ['0'],\n",
       "       ['0'],\n",
       "       ['0,64'],\n",
       "       ['0,97'],\n",
       "       ['0'],\n",
       "       ['0,33'],\n",
       "       ['6,99'],\n",
       "       ['1,94'],\n",
       "       ['0,01'],\n",
       "       ['2,96'],\n",
       "       ['4,35'],\n",
       "       ['0'],\n",
       "       ['0,14'],\n",
       "       ['0,87'],\n",
       "       ['4,35'],\n",
       "       ['1,98'],\n",
       "       ['1,44'],\n",
       "       ['0,23'],\n",
       "       ['0,4'],\n",
       "       ['16,77'],\n",
       "       ['1,12'],\n",
       "       ['7,81'],\n",
       "       ['5,52'],\n",
       "       ['0,27'],\n",
       "       ['1,2'],\n",
       "       ['2,25'],\n",
       "       ['0,11'],\n",
       "       ['12,16'],\n",
       "       ['0'],\n",
       "       ['2,78'],\n",
       "       ['22,95'],\n",
       "       ['0'],\n",
       "       ['17,95'],\n",
       "       ['24,38'],\n",
       "       ['0'],\n",
       "       ['48,96'],\n",
       "       ['0,09'],\n",
       "       ['0,21'],\n",
       "       ['3,2'],\n",
       "       ['13,33'],\n",
       "       ['0,89'],\n",
       "       ['0'],\n",
       "       ['2,62'],\n",
       "       ['1,49'],\n",
       "       ['2'],\n",
       "       ['0,04'],\n",
       "       ['0,79'],\n",
       "       ['9,87'],\n",
       "       ['15,7'],\n",
       "       ['0,18'],\n",
       "       ['0,06'],\n",
       "       ['0,7'],\n",
       "       ['0,01'],\n",
       "       ['0,61'],\n",
       "       ['4,43'],\n",
       "       ['1'],\n",
       "       ['0,92'],\n",
       "       ['1,08'],\n",
       "       ['6,46'],\n",
       "       ['2,21'],\n",
       "       ['43,06'],\n",
       "       ['9,16'],\n",
       "       ['13,74'],\n",
       "       ['3,31'],\n",
       "       ['0,14'],\n",
       "       ['0'],\n",
       "       ['0'],\n",
       "       ['10,65'],\n",
       "       ['1,61'],\n",
       "       ['2,25'],\n",
       "       ['0,21'],\n",
       "       ['0,22'],\n",
       "       ['0,23'],\n",
       "       ['0,83'],\n",
       "       ['7,38'],\n",
       "       ['0,92'],\n",
       "       ['5,95'],\n",
       "       ['2,94'],\n",
       "       ['25'],\n",
       "       ['18,97'],\n",
       "       ['0'],\n",
       "       ['0,24'],\n",
       "       ['0,03'],\n",
       "       ['0,34']], dtype=object)"
      ]
     },
     "execution_count": 60,
     "metadata": {
      "tags": []
     },
     "output_type": "execute_result"
    }
   ],
   "source": [
    "# Импьютация константой\n",
    "imp3 = SimpleImputer(missing_values=np.nan, strategy='constant', fill_value='<3')\n",
    "data_imp3 = imp3.fit_transform(cat_temp_data)\n",
    "data_imp3"
   ]
  },
  {
   "cell_type": "code",
   "execution_count": 61,
   "metadata": {
    "colab": {
     "base_uri": "https://localhost:8080/",
     "height": 374
    },
    "colab_type": "code",
    "id": "vUzcJsOPSqJi",
    "outputId": "dcdbcb2b-2831-467e-afa7-7d8e1966c183"
   },
   "outputs": [
    {
     "data": {
      "text/plain": [
       "array(['0', '0,01', '0,02', '0,03', '0,04', '0,05', '0,06', '0,09',\n",
       "       '0,11', '0,13', '0,14', '0,15', '0,18', '0,19', '0,21', '0,22',\n",
       "       '0,23', '0,24', '0,25', '0,27', '0,3', '0,33', '0,34', '0,35',\n",
       "       '0,4', '0,42', '0,43', '0,45', '0,47', '0,48', '0,5', '0,52',\n",
       "       '0,59', '0,6', '0,61', '0,64', '0,66', '0,67', '0,7', '0,75',\n",
       "       '0,76', '0,78', '0,79', '0,83', '0,86', '0,87', '0,89', '0,9',\n",
       "       '0,91', '0,92', '0,96', '0,97', '0,98', '1', '1,01', '1,03',\n",
       "       '1,08', '1,12', '1,2', '1,25', '1,31', '1,39', '1,44', '1,49',\n",
       "       '1,61', '1,67', '1,71', '1,81', '1,83', '1,92', '1,94', '1,95',\n",
       "       '1,98', '10,16', '10,33', '10,65', '10,79', '11,61', '12,07',\n",
       "       '12,16', '13,04', '13,33', '13,74', '13,84', '13,98', '14,02',\n",
       "       '15', '15,7', '16,36', '16,67', '16,77', '17,61', '17,95', '18,97',\n",
       "       '2', '2,06', '2,07', '2,17', '2,21', '2,25', '2,27', '2,28', '2,3',\n",
       "       '2,33', '2,4', '2,49', '2,58', '2,62', '2,71', '2,74', '2,78',\n",
       "       '2,94', '2,96', '20', '21,05', '22,95', '23,32', '24,38', '25',\n",
       "       '29,41', '3,05', '3,07', '3,13', '3,2', '3,22', '3,31', '3,55',\n",
       "       '3,57', '3,86', '38,89', '4,17', '4,35', '4,42', '4,43', '4,44',\n",
       "       '4,55', '4,65', '4,93', '43,06', '45,71', '48,96', '5,03', '5,46',\n",
       "       '5,52', '5,63', '5,88', '5,95', '50,68', '6,46', '6,67', '6,99',\n",
       "       '7,23', '7,38', '7,6', '7,81', '8,78', '8,82', '9,16', '9,43',\n",
       "       '9,53', '9,67', '9,87', '<3'], dtype=object)"
      ]
     },
     "execution_count": 61,
     "metadata": {
      "tags": []
     },
     "output_type": "execute_result"
    }
   ],
   "source": [
    "np.unique(data_imp3)\n"
   ]
  },
  {
   "cell_type": "markdown",
   "metadata": {
    "colab_type": "text",
    "id": "tojKsHVfSx55"
   },
   "source": [
    "#Преобразование категориальных признаков в числовые"
   ]
  },
  {
   "cell_type": "markdown",
   "metadata": {
    "colab_type": "text",
    "id": "AwSQoCf5S10S"
   },
   "source": [
    "Для данной задачи я выбрала другой датасет."
   ]
  },
  {
   "cell_type": "code",
   "execution_count": 0,
   "metadata": {
    "colab": {},
    "colab_type": "code",
    "id": "lcnUVQV9S-HJ"
   },
   "outputs": [],
   "source": [
    "data2 = pd.read_csv('/content/gdrive/My Drive/googleplaystore.csv', sep=\",\")"
   ]
  },
  {
   "cell_type": "code",
   "execution_count": 63,
   "metadata": {
    "colab": {
     "base_uri": "https://localhost:8080/",
     "height": 563
    },
    "colab_type": "code",
    "id": "VMR-FPRQVPQl",
    "outputId": "43330739-9aae-453f-fece-01f3081ba164"
   },
   "outputs": [
    {
     "data": {
      "text/html": [
       "<div>\n",
       "<style scoped>\n",
       "    .dataframe tbody tr th:only-of-type {\n",
       "        vertical-align: middle;\n",
       "    }\n",
       "\n",
       "    .dataframe tbody tr th {\n",
       "        vertical-align: top;\n",
       "    }\n",
       "\n",
       "    .dataframe thead th {\n",
       "        text-align: right;\n",
       "    }\n",
       "</style>\n",
       "<table border=\"1\" class=\"dataframe\">\n",
       "  <thead>\n",
       "    <tr style=\"text-align: right;\">\n",
       "      <th></th>\n",
       "      <th>App</th>\n",
       "      <th>Category</th>\n",
       "      <th>Rating</th>\n",
       "      <th>Reviews</th>\n",
       "      <th>Size</th>\n",
       "      <th>Installs</th>\n",
       "      <th>Type</th>\n",
       "      <th>Price</th>\n",
       "      <th>Content Rating</th>\n",
       "      <th>Genres</th>\n",
       "      <th>Last Updated</th>\n",
       "      <th>Current Ver</th>\n",
       "      <th>Android Ver</th>\n",
       "    </tr>\n",
       "  </thead>\n",
       "  <tbody>\n",
       "    <tr>\n",
       "      <th>0</th>\n",
       "      <td>Photo Editor &amp; Candy Camera &amp; Grid &amp; ScrapBook</td>\n",
       "      <td>ART_AND_DESIGN</td>\n",
       "      <td>4.1</td>\n",
       "      <td>159</td>\n",
       "      <td>19M</td>\n",
       "      <td>10,000+</td>\n",
       "      <td>Free</td>\n",
       "      <td>0</td>\n",
       "      <td>Everyone</td>\n",
       "      <td>Art &amp; Design</td>\n",
       "      <td>January 7, 2018</td>\n",
       "      <td>1.0.0</td>\n",
       "      <td>4.0.3 and up</td>\n",
       "    </tr>\n",
       "    <tr>\n",
       "      <th>1</th>\n",
       "      <td>Coloring book moana</td>\n",
       "      <td>ART_AND_DESIGN</td>\n",
       "      <td>3.9</td>\n",
       "      <td>967</td>\n",
       "      <td>14M</td>\n",
       "      <td>500,000+</td>\n",
       "      <td>Free</td>\n",
       "      <td>0</td>\n",
       "      <td>Everyone</td>\n",
       "      <td>Art &amp; Design;Pretend Play</td>\n",
       "      <td>January 15, 2018</td>\n",
       "      <td>2.0.0</td>\n",
       "      <td>4.0.3 and up</td>\n",
       "    </tr>\n",
       "    <tr>\n",
       "      <th>2</th>\n",
       "      <td>U Launcher Lite – FREE Live Cool Themes, Hide ...</td>\n",
       "      <td>ART_AND_DESIGN</td>\n",
       "      <td>4.7</td>\n",
       "      <td>87510</td>\n",
       "      <td>8.7M</td>\n",
       "      <td>5,000,000+</td>\n",
       "      <td>Free</td>\n",
       "      <td>0</td>\n",
       "      <td>Everyone</td>\n",
       "      <td>Art &amp; Design</td>\n",
       "      <td>August 1, 2018</td>\n",
       "      <td>1.2.4</td>\n",
       "      <td>4.0.3 and up</td>\n",
       "    </tr>\n",
       "    <tr>\n",
       "      <th>3</th>\n",
       "      <td>Sketch - Draw &amp; Paint</td>\n",
       "      <td>ART_AND_DESIGN</td>\n",
       "      <td>4.5</td>\n",
       "      <td>215644</td>\n",
       "      <td>25M</td>\n",
       "      <td>50,000,000+</td>\n",
       "      <td>Free</td>\n",
       "      <td>0</td>\n",
       "      <td>Teen</td>\n",
       "      <td>Art &amp; Design</td>\n",
       "      <td>June 8, 2018</td>\n",
       "      <td>Varies with device</td>\n",
       "      <td>4.2 and up</td>\n",
       "    </tr>\n",
       "    <tr>\n",
       "      <th>4</th>\n",
       "      <td>Pixel Draw - Number Art Coloring Book</td>\n",
       "      <td>ART_AND_DESIGN</td>\n",
       "      <td>4.3</td>\n",
       "      <td>967</td>\n",
       "      <td>2.8M</td>\n",
       "      <td>100,000+</td>\n",
       "      <td>Free</td>\n",
       "      <td>0</td>\n",
       "      <td>Everyone</td>\n",
       "      <td>Art &amp; Design;Creativity</td>\n",
       "      <td>June 20, 2018</td>\n",
       "      <td>1.1</td>\n",
       "      <td>4.4 and up</td>\n",
       "    </tr>\n",
       "    <tr>\n",
       "      <th>5</th>\n",
       "      <td>Paper flowers instructions</td>\n",
       "      <td>ART_AND_DESIGN</td>\n",
       "      <td>4.4</td>\n",
       "      <td>167</td>\n",
       "      <td>5.6M</td>\n",
       "      <td>50,000+</td>\n",
       "      <td>Free</td>\n",
       "      <td>0</td>\n",
       "      <td>Everyone</td>\n",
       "      <td>Art &amp; Design</td>\n",
       "      <td>March 26, 2017</td>\n",
       "      <td>1.0</td>\n",
       "      <td>2.3 and up</td>\n",
       "    </tr>\n",
       "    <tr>\n",
       "      <th>6</th>\n",
       "      <td>Smoke Effect Photo Maker - Smoke Editor</td>\n",
       "      <td>ART_AND_DESIGN</td>\n",
       "      <td>3.8</td>\n",
       "      <td>178</td>\n",
       "      <td>19M</td>\n",
       "      <td>50,000+</td>\n",
       "      <td>Free</td>\n",
       "      <td>0</td>\n",
       "      <td>Everyone</td>\n",
       "      <td>Art &amp; Design</td>\n",
       "      <td>April 26, 2018</td>\n",
       "      <td>1.1</td>\n",
       "      <td>4.0.3 and up</td>\n",
       "    </tr>\n",
       "    <tr>\n",
       "      <th>7</th>\n",
       "      <td>Infinite Painter</td>\n",
       "      <td>ART_AND_DESIGN</td>\n",
       "      <td>4.1</td>\n",
       "      <td>36815</td>\n",
       "      <td>29M</td>\n",
       "      <td>1,000,000+</td>\n",
       "      <td>Free</td>\n",
       "      <td>0</td>\n",
       "      <td>Everyone</td>\n",
       "      <td>Art &amp; Design</td>\n",
       "      <td>June 14, 2018</td>\n",
       "      <td>6.1.61.1</td>\n",
       "      <td>4.2 and up</td>\n",
       "    </tr>\n",
       "    <tr>\n",
       "      <th>8</th>\n",
       "      <td>Garden Coloring Book</td>\n",
       "      <td>ART_AND_DESIGN</td>\n",
       "      <td>4.4</td>\n",
       "      <td>13791</td>\n",
       "      <td>33M</td>\n",
       "      <td>1,000,000+</td>\n",
       "      <td>Free</td>\n",
       "      <td>0</td>\n",
       "      <td>Everyone</td>\n",
       "      <td>Art &amp; Design</td>\n",
       "      <td>September 20, 2017</td>\n",
       "      <td>2.9.2</td>\n",
       "      <td>3.0 and up</td>\n",
       "    </tr>\n",
       "    <tr>\n",
       "      <th>9</th>\n",
       "      <td>Kids Paint Free - Drawing Fun</td>\n",
       "      <td>ART_AND_DESIGN</td>\n",
       "      <td>4.7</td>\n",
       "      <td>121</td>\n",
       "      <td>3.1M</td>\n",
       "      <td>10,000+</td>\n",
       "      <td>Free</td>\n",
       "      <td>0</td>\n",
       "      <td>Everyone</td>\n",
       "      <td>Art &amp; Design;Creativity</td>\n",
       "      <td>July 3, 2018</td>\n",
       "      <td>2.8</td>\n",
       "      <td>4.0.3 and up</td>\n",
       "    </tr>\n",
       "  </tbody>\n",
       "</table>\n",
       "</div>"
      ],
      "text/plain": [
       "                                                 App        Category  Rating  \\\n",
       "0     Photo Editor & Candy Camera & Grid & ScrapBook  ART_AND_DESIGN     4.1   \n",
       "1                                Coloring book moana  ART_AND_DESIGN     3.9   \n",
       "2  U Launcher Lite – FREE Live Cool Themes, Hide ...  ART_AND_DESIGN     4.7   \n",
       "3                              Sketch - Draw & Paint  ART_AND_DESIGN     4.5   \n",
       "4              Pixel Draw - Number Art Coloring Book  ART_AND_DESIGN     4.3   \n",
       "5                         Paper flowers instructions  ART_AND_DESIGN     4.4   \n",
       "6            Smoke Effect Photo Maker - Smoke Editor  ART_AND_DESIGN     3.8   \n",
       "7                                   Infinite Painter  ART_AND_DESIGN     4.1   \n",
       "8                               Garden Coloring Book  ART_AND_DESIGN     4.4   \n",
       "9                      Kids Paint Free - Drawing Fun  ART_AND_DESIGN     4.7   \n",
       "\n",
       "  Reviews  Size     Installs  Type Price Content Rating  \\\n",
       "0     159   19M      10,000+  Free     0       Everyone   \n",
       "1     967   14M     500,000+  Free     0       Everyone   \n",
       "2   87510  8.7M   5,000,000+  Free     0       Everyone   \n",
       "3  215644   25M  50,000,000+  Free     0           Teen   \n",
       "4     967  2.8M     100,000+  Free     0       Everyone   \n",
       "5     167  5.6M      50,000+  Free     0       Everyone   \n",
       "6     178   19M      50,000+  Free     0       Everyone   \n",
       "7   36815   29M   1,000,000+  Free     0       Everyone   \n",
       "8   13791   33M   1,000,000+  Free     0       Everyone   \n",
       "9     121  3.1M      10,000+  Free     0       Everyone   \n",
       "\n",
       "                      Genres        Last Updated         Current Ver  \\\n",
       "0               Art & Design     January 7, 2018               1.0.0   \n",
       "1  Art & Design;Pretend Play    January 15, 2018               2.0.0   \n",
       "2               Art & Design      August 1, 2018               1.2.4   \n",
       "3               Art & Design        June 8, 2018  Varies with device   \n",
       "4    Art & Design;Creativity       June 20, 2018                 1.1   \n",
       "5               Art & Design      March 26, 2017                 1.0   \n",
       "6               Art & Design      April 26, 2018                 1.1   \n",
       "7               Art & Design       June 14, 2018            6.1.61.1   \n",
       "8               Art & Design  September 20, 2017               2.9.2   \n",
       "9    Art & Design;Creativity        July 3, 2018                 2.8   \n",
       "\n",
       "    Android Ver  \n",
       "0  4.0.3 and up  \n",
       "1  4.0.3 and up  \n",
       "2  4.0.3 and up  \n",
       "3    4.2 and up  \n",
       "4    4.4 and up  \n",
       "5    2.3 and up  \n",
       "6  4.0.3 and up  \n",
       "7    4.2 and up  \n",
       "8    3.0 and up  \n",
       "9  4.0.3 and up  "
      ]
     },
     "execution_count": 63,
     "metadata": {
      "tags": []
     },
     "output_type": "execute_result"
    }
   ],
   "source": [
    "data2.head(10)"
   ]
  },
  {
   "cell_type": "markdown",
   "metadata": {
    "colab_type": "text",
    "id": "bdwvffuvV3SF"
   },
   "source": [
    "Так как это уже другой датасет, необходимо проверить его на нулевые значения. "
   ]
  },
  {
   "cell_type": "code",
   "execution_count": 64,
   "metadata": {
    "colab": {
     "base_uri": "https://localhost:8080/",
     "height": 255
    },
    "colab_type": "code",
    "id": "bGkjntjuVgCr",
    "outputId": "dd0f28fe-7e4c-4553-90cb-f1665757cbf8"
   },
   "outputs": [
    {
     "data": {
      "text/plain": [
       "App                  0\n",
       "Category             0\n",
       "Rating            1474\n",
       "Reviews              0\n",
       "Size                 0\n",
       "Installs             0\n",
       "Type                 1\n",
       "Price                0\n",
       "Content Rating       1\n",
       "Genres               0\n",
       "Last Updated         0\n",
       "Current Ver          8\n",
       "Android Ver          3\n",
       "dtype: int64"
      ]
     },
     "execution_count": 64,
     "metadata": {
      "tags": []
     },
     "output_type": "execute_result"
    }
   ],
   "source": [
    "data2.isnull().sum()\n"
   ]
  },
  {
   "cell_type": "markdown",
   "metadata": {
    "colab_type": "text",
    "id": "EXVNuFl5WYxh"
   },
   "source": [
    "В пункте \"Category\" нет ни одного нулевого значения. Именно поэтому далее я буду рассматривать его. В этой колонке описывается категория, к которой относится приложение. "
   ]
  },
  {
   "cell_type": "code",
   "execution_count": 65,
   "metadata": {
    "colab": {
     "base_uri": "https://localhost:8080/",
     "height": 34
    },
    "colab_type": "code",
    "id": "uD6lWFdfWIX6",
    "outputId": "1a49932f-2979-4434-e1bb-531247d93b9e"
   },
   "outputs": [
    {
     "data": {
      "text/plain": [
       "(10841, 13)"
      ]
     },
     "execution_count": 65,
     "metadata": {
      "tags": []
     },
     "output_type": "execute_result"
    }
   ],
   "source": [
    "data2.shape"
   ]
  },
  {
   "cell_type": "code",
   "execution_count": 0,
   "metadata": {
    "colab": {},
    "colab_type": "code",
    "id": "XoZEqzbGXD0H"
   },
   "outputs": [],
   "source": [
    "cat_data = data2[['Category']]"
   ]
  },
  {
   "cell_type": "code",
   "execution_count": 67,
   "metadata": {
    "colab": {
     "base_uri": "https://localhost:8080/",
     "height": 187
    },
    "colab_type": "code",
    "id": "gjOFEvp7X7ep",
    "outputId": "3479c886-20d1-4a0c-c518-1400f9f7cf52"
   },
   "outputs": [
    {
     "name": "stdout",
     "output_type": "stream",
     "text": [
      "34\n"
     ]
    },
    {
     "data": {
      "text/plain": [
       "array(['ART_AND_DESIGN', 'AUTO_AND_VEHICLES', 'BEAUTY',\n",
       "       'BOOKS_AND_REFERENCE', 'BUSINESS', 'COMICS', 'COMMUNICATION',\n",
       "       'DATING', 'EDUCATION', 'ENTERTAINMENT', 'EVENTS', 'FINANCE',\n",
       "       'FOOD_AND_DRINK', 'HEALTH_AND_FITNESS', 'HOUSE_AND_HOME',\n",
       "       'LIBRARIES_AND_DEMO', 'LIFESTYLE', 'GAME', 'FAMILY', 'MEDICAL',\n",
       "       'SOCIAL', 'SHOPPING', 'PHOTOGRAPHY', 'SPORTS', 'TRAVEL_AND_LOCAL',\n",
       "       'TOOLS', 'PERSONALIZATION', 'PRODUCTIVITY', 'PARENTING', 'WEATHER',\n",
       "       'VIDEO_PLAYERS', 'NEWS_AND_MAGAZINES', 'MAPS_AND_NAVIGATION',\n",
       "       '1.9'], dtype=object)"
      ]
     },
     "execution_count": 67,
     "metadata": {
      "tags": []
     },
     "output_type": "execute_result"
    }
   ],
   "source": [
    "print(data2['Category'].unique().size)\n",
    "data2['Category'].unique()"
   ]
  },
  {
   "cell_type": "markdown",
   "metadata": {
    "colab_type": "text",
    "id": "tsuI1RflZK_d"
   },
   "source": [
    "Видно, что всего уникальных значений у этого признака - 34. Следовательно, этот признак можно **закодировать целочисленными значениями**."
   ]
  },
  {
   "cell_type": "code",
   "execution_count": 0,
   "metadata": {
    "colab": {},
    "colab_type": "code",
    "id": "QT8FX_IMZe6m"
   },
   "outputs": [],
   "source": [
    "from sklearn.preprocessing import LabelEncoder, OneHotEncoder"
   ]
  },
  {
   "cell_type": "code",
   "execution_count": 69,
   "metadata": {
    "colab": {
     "base_uri": "https://localhost:8080/",
     "height": 91
    },
    "colab_type": "code",
    "id": "9eZOyhs9o4VU",
    "outputId": "2f658888-77a6-4a14-f272-ce3cc003c814"
   },
   "outputs": [
    {
     "name": "stderr",
     "output_type": "stream",
     "text": [
      "/usr/local/lib/python3.6/dist-packages/sklearn/preprocessing/label.py:235: DataConversionWarning: A column-vector y was passed when a 1d array was expected. Please change the shape of y to (n_samples, ), for example using ravel().\n",
      "  y = column_or_1d(y, warn=True)\n"
     ]
    }
   ],
   "source": [
    "le = LabelEncoder()\n",
    "cat_enc_le = le.fit_transform(data2[['Category']])"
   ]
  },
  {
   "cell_type": "code",
   "execution_count": 70,
   "metadata": {
    "colab": {
     "base_uri": "https://localhost:8080/",
     "height": 51
    },
    "colab_type": "code",
    "id": "alk7W6b2p60K",
    "outputId": "59b7239a-dd07-43a5-9c23-1e47b2b5ff9d"
   },
   "outputs": [
    {
     "data": {
      "text/plain": [
       "array([ 0,  1,  2,  3,  4,  5,  6,  7,  8,  9, 10, 11, 12, 13, 14, 15, 16,\n",
       "       17, 18, 19, 20, 21, 22, 23, 24, 25, 26, 27, 28, 29, 30, 31, 32, 33])"
      ]
     },
     "execution_count": 70,
     "metadata": {
      "tags": []
     },
     "output_type": "execute_result"
    }
   ],
   "source": [
    "np.unique(cat_enc_le)"
   ]
  },
  {
   "cell_type": "code",
   "execution_count": 71,
   "metadata": {
    "colab": {
     "base_uri": "https://localhost:8080/",
     "height": 170
    },
    "colab_type": "code",
    "id": "7U9h_ykgquvS",
    "outputId": "f7067d12-7201-4ddf-b70b-3c6d03502fe2"
   },
   "outputs": [
    {
     "data": {
      "text/plain": [
       "array(['1.9', 'ART_AND_DESIGN', 'AUTO_AND_VEHICLES', 'BEAUTY',\n",
       "       'BOOKS_AND_REFERENCE', 'BUSINESS', 'COMICS', 'COMMUNICATION',\n",
       "       'DATING', 'EDUCATION', 'ENTERTAINMENT', 'EVENTS', 'FAMILY',\n",
       "       'FINANCE', 'FOOD_AND_DRINK', 'GAME', 'HEALTH_AND_FITNESS',\n",
       "       'HOUSE_AND_HOME', 'LIBRARIES_AND_DEMO', 'LIFESTYLE',\n",
       "       'MAPS_AND_NAVIGATION', 'MEDICAL', 'NEWS_AND_MAGAZINES',\n",
       "       'PARENTING', 'PERSONALIZATION', 'PHOTOGRAPHY', 'PRODUCTIVITY',\n",
       "       'SHOPPING', 'SOCIAL', 'SPORTS', 'TOOLS', 'TRAVEL_AND_LOCAL',\n",
       "       'VIDEO_PLAYERS', 'WEATHER'], dtype=object)"
      ]
     },
     "execution_count": 71,
     "metadata": {
      "tags": []
     },
     "output_type": "execute_result"
    }
   ],
   "source": [
    "le.inverse_transform([ 0,  1,  2,  3,  4,  5,  6,  7,  8,  9, 10, 11, 12, 13, 14, 15, 16,\n",
    "       17, 18, 19, 20, 21, 22, 23, 24, 25, 26, 27, 28, 29, 30, 31, 32, 33])\n"
   ]
  },
  {
   "cell_type": "code",
   "execution_count": 72,
   "metadata": {
    "colab": {
     "base_uri": "https://localhost:8080/",
     "height": 51
    },
    "colab_type": "code",
    "id": "nJ4vDfvkrGec",
    "outputId": "cb5e4279-804b-4b91-ba85-b6f381e9a0b6"
   },
   "outputs": [
    {
     "name": "stdout",
     "output_type": "stream",
     "text": [
      "4\n"
     ]
    },
    {
     "data": {
      "text/plain": [
       "array(['Free', 'Paid', nan, '0'], dtype=object)"
      ]
     },
     "execution_count": 72,
     "metadata": {
      "tags": []
     },
     "output_type": "execute_result"
    }
   ],
   "source": [
    "print(data2['Type'].unique().size)\n",
    "data2['Type'].unique()"
   ]
  },
  {
   "cell_type": "markdown",
   "metadata": {
    "colab_type": "text",
    "id": "zPp4TqYRtCRI"
   },
   "source": [
    "Так как в типе есть одно пропущенное значение, я просто удалю строку, в которой оно содержится. "
   ]
  },
  {
   "cell_type": "code",
   "execution_count": 73,
   "metadata": {
    "colab": {
     "base_uri": "https://localhost:8080/",
     "height": 34
    },
    "colab_type": "code",
    "id": "tGBfxYXMsW1D",
    "outputId": "418be643-6408-480f-dc9e-4a87dc4cdb33"
   },
   "outputs": [
    {
     "data": {
      "text/plain": [
       "(9360, 13)"
      ]
     },
     "execution_count": 73,
     "metadata": {
      "tags": []
     },
     "output_type": "execute_result"
    }
   ],
   "source": [
    "data2 = data2.dropna(axis=0, how='any')\n",
    "data2.shape"
   ]
  },
  {
   "cell_type": "code",
   "execution_count": 74,
   "metadata": {
    "colab": {
     "base_uri": "https://localhost:8080/",
     "height": 51
    },
    "colab_type": "code",
    "id": "ja9tNJYktTFq",
    "outputId": "7dd78d87-9909-418e-fcb6-f90ccfe5d2be"
   },
   "outputs": [
    {
     "name": "stdout",
     "output_type": "stream",
     "text": [
      "2\n"
     ]
    },
    {
     "data": {
      "text/plain": [
       "array(['Free', 'Paid'], dtype=object)"
      ]
     },
     "execution_count": 74,
     "metadata": {
      "tags": []
     },
     "output_type": "execute_result"
    }
   ],
   "source": [
    "print(data2['Type'].unique().size)\n",
    "data2['Type'].unique()"
   ]
  },
  {
   "cell_type": "markdown",
   "metadata": {
    "colab_type": "text",
    "id": "iP9pu8Iotlc5"
   },
   "source": [
    "Теперь в данной колонке осталось только 2 значения: бесплатное и платное. "
   ]
  },
  {
   "cell_type": "code",
   "execution_count": 0,
   "metadata": {
    "colab": {},
    "colab_type": "code",
    "id": "j6xuyf_CuKjW"
   },
   "outputs": [],
   "source": [
    "ohe = OneHotEncoder()\n",
    "cat_enc_ohe = ohe.fit_transform(data2[['Type']])"
   ]
  },
  {
   "cell_type": "code",
   "execution_count": 76,
   "metadata": {
    "colab": {
     "base_uri": "https://localhost:8080/",
     "height": 34
    },
    "colab_type": "code",
    "id": "tKwOldN9uWPP",
    "outputId": "fc452635-447c-4606-dcb8-2cd0ac579a36"
   },
   "outputs": [
    {
     "data": {
      "text/plain": [
       "(9360, 1)"
      ]
     },
     "execution_count": 76,
     "metadata": {
      "tags": []
     },
     "output_type": "execute_result"
    }
   ],
   "source": [
    "data2[['Type']].shape"
   ]
  },
  {
   "cell_type": "code",
   "execution_count": 77,
   "metadata": {
    "colab": {
     "base_uri": "https://localhost:8080/",
     "height": 34
    },
    "colab_type": "code",
    "id": "E_yTUukiujsU",
    "outputId": "6ba826db-2b3d-4f79-90f3-1e8d48b8a81e"
   },
   "outputs": [
    {
     "data": {
      "text/plain": [
       "(9360, 2)"
      ]
     },
     "execution_count": 77,
     "metadata": {
      "tags": []
     },
     "output_type": "execute_result"
    }
   ],
   "source": [
    "cat_enc_ohe.shape\n"
   ]
  },
  {
   "cell_type": "code",
   "execution_count": 78,
   "metadata": {
    "colab": {
     "base_uri": "https://localhost:8080/",
     "height": 187
    },
    "colab_type": "code",
    "id": "Gy0df9gRuoz4",
    "outputId": "144006b4-2b4b-4d53-91fc-ed85d012eafd"
   },
   "outputs": [
    {
     "data": {
      "text/plain": [
       "matrix([[1., 0.],\n",
       "        [1., 0.],\n",
       "        [0., 1.],\n",
       "        [1., 0.],\n",
       "        [1., 0.],\n",
       "        [1., 0.],\n",
       "        [1., 0.],\n",
       "        [1., 0.],\n",
       "        [1., 0.],\n",
       "        [1., 0.]])"
      ]
     },
     "execution_count": 78,
     "metadata": {
      "tags": []
     },
     "output_type": "execute_result"
    }
   ],
   "source": [
    "cat_enc_ohe.todense()[7030:7040]"
   ]
  },
  {
   "cell_type": "code",
   "execution_count": 79,
   "metadata": {
    "colab": {
     "base_uri": "https://localhost:8080/",
     "height": 359
    },
    "colab_type": "code",
    "id": "OiUR-AbdvSq-",
    "outputId": "9987691b-c24f-49f1-a802-d772f958d58f"
   },
   "outputs": [
    {
     "data": {
      "text/html": [
       "<div>\n",
       "<style scoped>\n",
       "    .dataframe tbody tr th:only-of-type {\n",
       "        vertical-align: middle;\n",
       "    }\n",
       "\n",
       "    .dataframe tbody tr th {\n",
       "        vertical-align: top;\n",
       "    }\n",
       "\n",
       "    .dataframe thead th {\n",
       "        text-align: right;\n",
       "    }\n",
       "</style>\n",
       "<table border=\"1\" class=\"dataframe\">\n",
       "  <thead>\n",
       "    <tr style=\"text-align: right;\">\n",
       "      <th></th>\n",
       "      <th>Type</th>\n",
       "    </tr>\n",
       "  </thead>\n",
       "  <tbody>\n",
       "    <tr>\n",
       "      <th>7895</th>\n",
       "      <td>Free</td>\n",
       "    </tr>\n",
       "    <tr>\n",
       "      <th>7896</th>\n",
       "      <td>Free</td>\n",
       "    </tr>\n",
       "    <tr>\n",
       "      <th>7899</th>\n",
       "      <td>Paid</td>\n",
       "    </tr>\n",
       "    <tr>\n",
       "      <th>7900</th>\n",
       "      <td>Free</td>\n",
       "    </tr>\n",
       "    <tr>\n",
       "      <th>7902</th>\n",
       "      <td>Free</td>\n",
       "    </tr>\n",
       "    <tr>\n",
       "      <th>7903</th>\n",
       "      <td>Free</td>\n",
       "    </tr>\n",
       "    <tr>\n",
       "      <th>7904</th>\n",
       "      <td>Free</td>\n",
       "    </tr>\n",
       "    <tr>\n",
       "      <th>7905</th>\n",
       "      <td>Free</td>\n",
       "    </tr>\n",
       "    <tr>\n",
       "      <th>7906</th>\n",
       "      <td>Free</td>\n",
       "    </tr>\n",
       "    <tr>\n",
       "      <th>7907</th>\n",
       "      <td>Free</td>\n",
       "    </tr>\n",
       "  </tbody>\n",
       "</table>\n",
       "</div>"
      ],
      "text/plain": [
       "      Type\n",
       "7895  Free\n",
       "7896  Free\n",
       "7899  Paid\n",
       "7900  Free\n",
       "7902  Free\n",
       "7903  Free\n",
       "7904  Free\n",
       "7905  Free\n",
       "7906  Free\n",
       "7907  Free"
      ]
     },
     "execution_count": 79,
     "metadata": {
      "tags": []
     },
     "output_type": "execute_result"
    }
   ],
   "source": [
    "data2[['Type']][7030:7040]"
   ]
  },
  {
   "cell_type": "code",
   "execution_count": 80,
   "metadata": {
    "colab": {
     "base_uri": "https://localhost:8080/",
     "height": 359
    },
    "colab_type": "code",
    "id": "rkZbYsErwQo8",
    "outputId": "c349c0b5-c3b8-4faa-a02a-2472814d169c"
   },
   "outputs": [
    {
     "data": {
      "text/html": [
       "<div>\n",
       "<style scoped>\n",
       "    .dataframe tbody tr th:only-of-type {\n",
       "        vertical-align: middle;\n",
       "    }\n",
       "\n",
       "    .dataframe tbody tr th {\n",
       "        vertical-align: top;\n",
       "    }\n",
       "\n",
       "    .dataframe thead th {\n",
       "        text-align: right;\n",
       "    }\n",
       "</style>\n",
       "<table border=\"1\" class=\"dataframe\">\n",
       "  <thead>\n",
       "    <tr style=\"text-align: right;\">\n",
       "      <th></th>\n",
       "      <th>Type_Free</th>\n",
       "      <th>Type_Paid</th>\n",
       "    </tr>\n",
       "  </thead>\n",
       "  <tbody>\n",
       "    <tr>\n",
       "      <th>7895</th>\n",
       "      <td>1</td>\n",
       "      <td>0</td>\n",
       "    </tr>\n",
       "    <tr>\n",
       "      <th>7896</th>\n",
       "      <td>1</td>\n",
       "      <td>0</td>\n",
       "    </tr>\n",
       "    <tr>\n",
       "      <th>7899</th>\n",
       "      <td>0</td>\n",
       "      <td>1</td>\n",
       "    </tr>\n",
       "    <tr>\n",
       "      <th>7900</th>\n",
       "      <td>1</td>\n",
       "      <td>0</td>\n",
       "    </tr>\n",
       "    <tr>\n",
       "      <th>7902</th>\n",
       "      <td>1</td>\n",
       "      <td>0</td>\n",
       "    </tr>\n",
       "    <tr>\n",
       "      <th>7903</th>\n",
       "      <td>1</td>\n",
       "      <td>0</td>\n",
       "    </tr>\n",
       "    <tr>\n",
       "      <th>7904</th>\n",
       "      <td>1</td>\n",
       "      <td>0</td>\n",
       "    </tr>\n",
       "    <tr>\n",
       "      <th>7905</th>\n",
       "      <td>1</td>\n",
       "      <td>0</td>\n",
       "    </tr>\n",
       "    <tr>\n",
       "      <th>7906</th>\n",
       "      <td>1</td>\n",
       "      <td>0</td>\n",
       "    </tr>\n",
       "    <tr>\n",
       "      <th>7907</th>\n",
       "      <td>1</td>\n",
       "      <td>0</td>\n",
       "    </tr>\n",
       "  </tbody>\n",
       "</table>\n",
       "</div>"
      ],
      "text/plain": [
       "      Type_Free  Type_Paid\n",
       "7895          1          0\n",
       "7896          1          0\n",
       "7899          0          1\n",
       "7900          1          0\n",
       "7902          1          0\n",
       "7903          1          0\n",
       "7904          1          0\n",
       "7905          1          0\n",
       "7906          1          0\n",
       "7907          1          0"
      ]
     },
     "execution_count": 80,
     "metadata": {
      "tags": []
     },
     "output_type": "execute_result"
    }
   ],
   "source": [
    "pd.get_dummies(data2[['Type']])[7030:7040]"
   ]
  },
  {
   "cell_type": "markdown",
   "metadata": {
    "colab_type": "text",
    "id": "JCWkmaGcxKjO"
   },
   "source": [
    "#Масштабирование данных"
   ]
  },
  {
   "cell_type": "code",
   "execution_count": 0,
   "metadata": {
    "colab": {},
    "colab_type": "code",
    "id": "rTCSi8PExPED"
   },
   "outputs": [],
   "source": [
    "from sklearn.preprocessing import MinMaxScaler, StandardScaler, Normalizer\n"
   ]
  },
  {
   "cell_type": "code",
   "execution_count": 32,
   "metadata": {
    "colab": {
     "base_uri": "https://localhost:8080/",
     "height": 372
    },
    "colab_type": "code",
    "id": "BYwmmMqjQR9P",
    "outputId": "0fb762b9-1b84-40e2-84f9-5db530349a33"
   },
   "outputs": [
    {
     "data": {
      "image/png": "[encoded data removed]",
      "text/plain": [
       "<Figure size 576x396 with 1 Axes>"
      ]
     },
     "metadata": {
      "tags": []
     },
     "output_type": "display_data"
    }
   ],
   "source": [
    "plt.hist(data['Area (sq. mi.)'], 30)\n",
    "plt.show()"
   ]
  },
  {
   "cell_type": "code",
   "execution_count": 24,
   "metadata": {
    "colab": {
     "base_uri": "https://localhost:8080/",
     "height": 91
    },
    "colab_type": "code",
    "id": "mb8csTFUSjq4",
    "outputId": "c1a3c9b9-4d89-4df5-9142-8e2633140734"
   },
   "outputs": [
    {
     "name": "stderr",
     "output_type": "stream",
     "text": [
      "/usr/local/lib/python3.6/dist-packages/sklearn/preprocessing/data.py:334: DataConversionWarning: Data with input dtype int64 were all converted to float64 by MinMaxScaler.\n",
      "  return self.partial_fit(X, y)\n"
     ]
    }
   ],
   "source": [
    "sc1 = MinMaxScaler()\n",
    "sc1_data = sc1.fit_transform(data[['Area (sq. mi.)']])"
   ]
  },
  {
   "cell_type": "code",
   "execution_count": 31,
   "metadata": {
    "colab": {
     "base_uri": "https://localhost:8080/",
     "height": 359
    },
    "colab_type": "code",
    "id": "-p9dX3IFSzOS",
    "outputId": "7ae78f89-15d5-46a5-c84b-9e554ad5f5f7"
   },
   "outputs": [
    {
     "data": {
      "image/png": "[encoded data removed]",
      "text/plain": [
       "<Figure size 576x396 with 1 Axes>"
      ]
     },
     "metadata": {
      "tags": []
     },
     "output_type": "display_data"
    }
   ],
   "source": [
    "plt.hist(sc1_data, 30)\n",
    "plt.show()"
   ]
  },
  {
   "cell_type": "markdown",
   "metadata": {
    "colab_type": "text",
    "id": "Yh6zpcIYVuuS"
   },
   "source": [
    " Масштабирование данных на основе Z-оценки - StandardScaler"
   ]
  },
  {
   "cell_type": "code",
   "execution_count": 34,
   "metadata": {
    "colab": {
     "base_uri": "https://localhost:8080/",
     "height": 125
    },
    "colab_type": "code",
    "id": "U1skhnXnS8Or",
    "outputId": "3a5ecf80-f9b6-418f-970e-b1607bd5d655"
   },
   "outputs": [
    {
     "name": "stderr",
     "output_type": "stream",
     "text": [
      "/usr/local/lib/python3.6/dist-packages/sklearn/preprocessing/data.py:645: DataConversionWarning: Data with input dtype int64 were all converted to float64 by StandardScaler.\n",
      "  return self.partial_fit(X, y)\n",
      "/usr/local/lib/python3.6/dist-packages/sklearn/base.py:464: DataConversionWarning: Data with input dtype int64 were all converted to float64 by StandardScaler.\n",
      "  return self.fit(X, **fit_params).transform(X)\n"
     ]
    }
   ],
   "source": [
    "sc2 = StandardScaler()\n",
    "sc2_data = sc2.fit_transform(data[['Area (sq. mi.)']])"
   ]
  },
  {
   "cell_type": "code",
   "execution_count": 35,
   "metadata": {
    "colab": {
     "base_uri": "https://localhost:8080/",
     "height": 359
    },
    "colab_type": "code",
    "id": "Wbq93AlRVzOP",
    "outputId": "3bf3033a-fc12-45c7-80be-eae2ea608200"
   },
   "outputs": [
    {
     "data": {
      "image/png": "[encoded data removed]",
      "text/plain": [
       "<Figure size 576x396 with 1 Axes>"
      ]
     },
     "metadata": {
      "tags": []
     },
     "output_type": "display_data"
    }
   ],
   "source": [
    "plt.hist(sc2_data, 30)\n",
    "plt.show()"
   ]
  },
  {
   "cell_type": "markdown",
   "metadata": {
    "colab_type": "text",
    "id": "3py3npcVWvYi"
   },
   "source": [
    "#Нормализация данных"
   ]
  },
  {
   "cell_type": "code",
   "execution_count": 0,
   "metadata": {
    "colab": {},
    "colab_type": "code",
    "id": "w4RMaMf4Wtdx"
   },
   "outputs": [],
   "source": [
    "sc3 = Normalizer()\n",
    "sc3_data = sc3.fit_transform(data[['Area (sq. mi.)']])"
   ]
  },
  {
   "cell_type": "code",
   "execution_count": 40,
   "metadata": {
    "colab": {
     "base_uri": "https://localhost:8080/",
     "height": 359
    },
    "colab_type": "code",
    "id": "vGrD6z6HW-0i",
    "outputId": "cb20b9f1-49b1-4735-ab03-0415632f0349"
   },
   "outputs": [
    {
     "data": {
      "image/png": "[encoded data removed]",
      "text/plain": [
       "<Figure size 576x396 with 1 Axes>"
      ]
     },
     "metadata": {
      "tags": []
     },
     "output_type": "display_data"
    }
   ],
   "source": [
    "plt.hist(sc3_data, 10)\n",
    "plt.show()"
   ]
  }
 ],
 "metadata": {
  "colab": {
   "collapsed_sections": [],
   "name": "Lab3.ipynb",
   "provenance": [],
   "version": "0.3.2"
  },
  "kernelspec": {
   "display_name": "Python 3",
   "language": "python",
   "name": "python3"
  },
  "language_info": {
   "codemirror_mode": {
    "name": "ipython",
    "version": 3
   },
   "file_extension": ".py",
   "mimetype": "text/x-python",
   "name": "python",
   "nbconvert_exporter": "python",
   "pygments_lexer": "ipython3",
   "version": "3.7.4"
  }
 },
 "nbformat": 4,
 "nbformat_minor": 1
}
